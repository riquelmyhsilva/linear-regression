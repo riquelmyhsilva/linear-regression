{
  "nbformat": 4,
  "nbformat_minor": 0,
  "metadata": {
    "colab": {
      "provenance": [],
      "collapsed_sections": [
        "JXZSIy3B_cZb"
      ]
    },
    "kernelspec": {
      "name": "ir",
      "display_name": "R"
    },
    "language_info": {
      "name": "R"
    }
  },
  "cells": [
    {
      "cell_type": "markdown",
      "source": [
        "# ISLR Library"
      ],
      "metadata": {
        "id": "wVQ7FgbUYbsT"
      }
    },
    {
      "cell_type": "code",
      "execution_count": 26,
      "metadata": {
        "id": "qIrwLKW8lycE",
        "colab": {
          "base_uri": "https://localhost:8080/"
        },
        "outputId": "33881191-e972-4a98-8e05-694abe5976f3"
      },
      "outputs": [
        {
          "output_type": "stream",
          "name": "stderr",
          "text": [
            "Installing package into ‘/usr/local/lib/R/site-library’\n",
            "(as ‘lib’ is unspecified)\n",
            "\n"
          ]
        }
      ],
      "source": [
        "install.packages(\"ISLR\")"
      ]
    },
    {
      "cell_type": "code",
      "source": [
        "library(\"ISLR\")"
      ],
      "metadata": {
        "id": "poTw3SKToNtO"
      },
      "execution_count": 27,
      "outputs": []
    },
    {
      "cell_type": "code",
      "source": [
        "rm(list=ls())"
      ],
      "metadata": {
        "id": "zz-QJ2vCoQJ5"
      },
      "execution_count": 28,
      "outputs": []
    },
    {
      "cell_type": "markdown",
      "source": [
        "# Exercício"
      ],
      "metadata": {
        "id": "4eCs2glh4vhp"
      }
    },
    {
      "cell_type": "markdown",
      "source": [
        "## ISLR::Auto\n"
      ],
      "metadata": {
        "id": "wsoBaNa98ErM"
      }
    },
    {
      "cell_type": "code",
      "source": [
        "df_auto <- ISLR::Auto\n",
        "df_auto$cylinders <- factor(df_auto$cylinders)\n",
        "df_auto$origin <- factor(df_auto$origin)\n",
        "head(df_auto)"
      ],
      "metadata": {
        "id": "cV116TwKohqd",
        "colab": {
          "base_uri": "https://localhost:8080/",
          "height": 286
        },
        "outputId": "de1916b5-d1a9-473f-9645-347d67bbf68f"
      },
      "execution_count": 29,
      "outputs": [
        {
          "output_type": "display_data",
          "data": {
            "text/html": [
              "<table class=\"dataframe\">\n",
              "<caption>A data.frame: 6 × 9</caption>\n",
              "<thead>\n",
              "\t<tr><th></th><th scope=col>mpg</th><th scope=col>cylinders</th><th scope=col>displacement</th><th scope=col>horsepower</th><th scope=col>weight</th><th scope=col>acceleration</th><th scope=col>year</th><th scope=col>origin</th><th scope=col>name</th></tr>\n",
              "\t<tr><th></th><th scope=col>&lt;dbl&gt;</th><th scope=col>&lt;fct&gt;</th><th scope=col>&lt;dbl&gt;</th><th scope=col>&lt;dbl&gt;</th><th scope=col>&lt;dbl&gt;</th><th scope=col>&lt;dbl&gt;</th><th scope=col>&lt;dbl&gt;</th><th scope=col>&lt;fct&gt;</th><th scope=col>&lt;fct&gt;</th></tr>\n",
              "</thead>\n",
              "<tbody>\n",
              "\t<tr><th scope=row>1</th><td>18</td><td>8</td><td>307</td><td>130</td><td>3504</td><td>12.0</td><td>70</td><td>1</td><td>chevrolet chevelle malibu</td></tr>\n",
              "\t<tr><th scope=row>2</th><td>15</td><td>8</td><td>350</td><td>165</td><td>3693</td><td>11.5</td><td>70</td><td>1</td><td>buick skylark 320        </td></tr>\n",
              "\t<tr><th scope=row>3</th><td>18</td><td>8</td><td>318</td><td>150</td><td>3436</td><td>11.0</td><td>70</td><td>1</td><td>plymouth satellite       </td></tr>\n",
              "\t<tr><th scope=row>4</th><td>16</td><td>8</td><td>304</td><td>150</td><td>3433</td><td>12.0</td><td>70</td><td>1</td><td>amc rebel sst            </td></tr>\n",
              "\t<tr><th scope=row>5</th><td>17</td><td>8</td><td>302</td><td>140</td><td>3449</td><td>10.5</td><td>70</td><td>1</td><td>ford torino              </td></tr>\n",
              "\t<tr><th scope=row>6</th><td>15</td><td>8</td><td>429</td><td>198</td><td>4341</td><td>10.0</td><td>70</td><td>1</td><td>ford galaxie 500         </td></tr>\n",
              "</tbody>\n",
              "</table>\n"
            ],
            "text/markdown": "\nA data.frame: 6 × 9\n\n| <!--/--> | mpg &lt;dbl&gt; | cylinders &lt;fct&gt; | displacement &lt;dbl&gt; | horsepower &lt;dbl&gt; | weight &lt;dbl&gt; | acceleration &lt;dbl&gt; | year &lt;dbl&gt; | origin &lt;fct&gt; | name &lt;fct&gt; |\n|---|---|---|---|---|---|---|---|---|---|\n| 1 | 18 | 8 | 307 | 130 | 3504 | 12.0 | 70 | 1 | chevrolet chevelle malibu |\n| 2 | 15 | 8 | 350 | 165 | 3693 | 11.5 | 70 | 1 | buick skylark 320         |\n| 3 | 18 | 8 | 318 | 150 | 3436 | 11.0 | 70 | 1 | plymouth satellite        |\n| 4 | 16 | 8 | 304 | 150 | 3433 | 12.0 | 70 | 1 | amc rebel sst             |\n| 5 | 17 | 8 | 302 | 140 | 3449 | 10.5 | 70 | 1 | ford torino               |\n| 6 | 15 | 8 | 429 | 198 | 4341 | 10.0 | 70 | 1 | ford galaxie 500          |\n\n",
            "text/latex": "A data.frame: 6 × 9\n\\begin{tabular}{r|lllllllll}\n  & mpg & cylinders & displacement & horsepower & weight & acceleration & year & origin & name\\\\\n  & <dbl> & <fct> & <dbl> & <dbl> & <dbl> & <dbl> & <dbl> & <fct> & <fct>\\\\\n\\hline\n\t1 & 18 & 8 & 307 & 130 & 3504 & 12.0 & 70 & 1 & chevrolet chevelle malibu\\\\\n\t2 & 15 & 8 & 350 & 165 & 3693 & 11.5 & 70 & 1 & buick skylark 320        \\\\\n\t3 & 18 & 8 & 318 & 150 & 3436 & 11.0 & 70 & 1 & plymouth satellite       \\\\\n\t4 & 16 & 8 & 304 & 150 & 3433 & 12.0 & 70 & 1 & amc rebel sst            \\\\\n\t5 & 17 & 8 & 302 & 140 & 3449 & 10.5 & 70 & 1 & ford torino              \\\\\n\t6 & 15 & 8 & 429 & 198 & 4341 & 10.0 & 70 & 1 & ford galaxie 500         \\\\\n\\end{tabular}\n",
            "text/plain": [
              "  mpg cylinders displacement horsepower weight acceleration year origin\n",
              "1 18  8         307          130        3504   12.0         70   1     \n",
              "2 15  8         350          165        3693   11.5         70   1     \n",
              "3 18  8         318          150        3436   11.0         70   1     \n",
              "4 16  8         304          150        3433   12.0         70   1     \n",
              "5 17  8         302          140        3449   10.5         70   1     \n",
              "6 15  8         429          198        4341   10.0         70   1     \n",
              "  name                     \n",
              "1 chevrolet chevelle malibu\n",
              "2 buick skylark 320        \n",
              "3 plymouth satellite       \n",
              "4 amc rebel sst            \n",
              "5 ford torino              \n",
              "6 ford galaxie 500         "
            ]
          },
          "metadata": {}
        }
      ]
    },
    {
      "cell_type": "code",
      "source": [
        "null_auto_lm <- lm(mpg ~ 1, data = df_auto)\n",
        "summary(null_auto_lm)"
      ],
      "metadata": {
        "id": "ZW1VDhAa5MM7",
        "colab": {
          "base_uri": "https://localhost:8080/",
          "height": 293
        },
        "outputId": "8779a34d-1441-4289-f4d5-aaf46a2cb67f"
      },
      "execution_count": 30,
      "outputs": [
        {
          "output_type": "display_data",
          "data": {
            "text/plain": [
              "\n",
              "Call:\n",
              "lm(formula = mpg ~ 1, data = df_auto)\n",
              "\n",
              "Residuals:\n",
              "     Min       1Q   Median       3Q      Max \n",
              "-14.4459  -6.4459  -0.6959   5.5541  23.1541 \n",
              "\n",
              "Coefficients:\n",
              "            Estimate Std. Error t value Pr(>|t|)    \n",
              "(Intercept)  23.4459     0.3942   59.48   <2e-16 ***\n",
              "---\n",
              "Signif. codes:  0 ‘***’ 0.001 ‘**’ 0.01 ‘*’ 0.05 ‘.’ 0.1 ‘ ’ 1\n",
              "\n",
              "Residual standard error: 7.805 on 391 degrees of freedom\n"
            ]
          },
          "metadata": {}
        }
      ]
    },
    {
      "cell_type": "code",
      "source": [
        "full_auto_lm <- lm(mpg ~ cylinders + displacement + horsepower + weight + acceleration + year + origin, data = df_auto)\n",
        "summary(full_auto_lm)"
      ],
      "metadata": {
        "id": "IH3vWGBP5T-K",
        "colab": {
          "base_uri": "https://localhost:8080/",
          "height": 550
        },
        "outputId": "b400358c-b072-4fab-edfa-d85372acd128"
      },
      "execution_count": 31,
      "outputs": [
        {
          "output_type": "display_data",
          "data": {
            "text/plain": [
              "\n",
              "Call:\n",
              "lm(formula = mpg ~ cylinders + displacement + horsepower + weight + \n",
              "    acceleration + year + origin, data = df_auto)\n",
              "\n",
              "Residuals:\n",
              "    Min      1Q  Median      3Q     Max \n",
              "-8.6797 -1.9373 -0.0678  1.6711 12.7756 \n",
              "\n",
              "Coefficients:\n",
              "               Estimate Std. Error t value Pr(>|t|)    \n",
              "(Intercept)  -2.208e+01  4.541e+00  -4.862 1.70e-06 ***\n",
              "cylinders4    6.722e+00  1.654e+00   4.064 5.85e-05 ***\n",
              "cylinders5    7.078e+00  2.516e+00   2.813  0.00516 ** \n",
              "cylinders6    3.351e+00  1.824e+00   1.837  0.06701 .  \n",
              "cylinders8    5.099e+00  2.109e+00   2.418  0.01607 *  \n",
              "displacement  1.870e-02  7.222e-03   2.590  0.00997 ** \n",
              "horsepower   -3.490e-02  1.323e-02  -2.639  0.00866 ** \n",
              "weight       -5.780e-03  6.315e-04  -9.154  < 2e-16 ***\n",
              "acceleration  2.598e-02  9.304e-02   0.279  0.78021    \n",
              "year          7.370e-01  4.892e-02  15.064  < 2e-16 ***\n",
              "origin2       1.764e+00  5.513e-01   3.200  0.00149 ** \n",
              "origin3       2.617e+00  5.272e-01   4.964 1.04e-06 ***\n",
              "---\n",
              "Signif. codes:  0 ‘***’ 0.001 ‘**’ 0.01 ‘*’ 0.05 ‘.’ 0.1 ‘ ’ 1\n",
              "\n",
              "Residual standard error: 3.098 on 380 degrees of freedom\n",
              "Multiple R-squared:  0.8469,\tAdjusted R-squared:  0.8425 \n",
              "F-statistic: 191.1 on 11 and 380 DF,  p-value: < 2.2e-16\n"
            ]
          },
          "metadata": {}
        }
      ]
    },
    {
      "cell_type": "code",
      "source": [
        "auto_step_forward <- step(null_auto_lm, scope=formula(full_auto_lm), direction='forward', trace=0)\n",
        "summary(auto_step_forward)"
      ],
      "metadata": {
        "id": "0CzM75jF7DSm",
        "colab": {
          "base_uri": "https://localhost:8080/",
          "height": 531
        },
        "outputId": "9febdfc8-bc64-4379-8a9e-47200d80ce05"
      },
      "execution_count": 32,
      "outputs": [
        {
          "output_type": "display_data",
          "data": {
            "text/plain": [
              "\n",
              "Call:\n",
              "lm(formula = mpg ~ weight + year + cylinders + origin + horsepower + \n",
              "    displacement, data = df_auto)\n",
              "\n",
              "Residuals:\n",
              "    Min      1Q  Median      3Q     Max \n",
              "-8.7037 -1.9501 -0.0552  1.7105 12.7932 \n",
              "\n",
              "Coefficients:\n",
              "               Estimate Std. Error t value Pr(>|t|)    \n",
              "(Intercept)  -2.162e+01  4.231e+00  -5.111 5.09e-07 ***\n",
              "weight       -5.696e-03  5.535e-04 -10.291  < 2e-16 ***\n",
              "year          7.358e-01  4.868e-02  15.114  < 2e-16 ***\n",
              "cylinders4    6.784e+00  1.637e+00   4.144 4.20e-05 ***\n",
              "cylinders5    7.147e+00  2.501e+00   2.857 0.004510 ** \n",
              "cylinders6    3.403e+00  1.813e+00   1.877 0.061262 .  \n",
              "cylinders8    5.137e+00  2.102e+00   2.444 0.014983 *  \n",
              "origin2       1.763e+00  5.506e-01   3.203 0.001476 ** \n",
              "origin3       2.621e+00  5.264e-01   4.979 9.71e-07 ***\n",
              "horsepower   -3.706e-02  1.071e-02  -3.459 0.000604 ***\n",
              "displacement  1.848e-02  7.169e-03   2.578 0.010312 *  \n",
              "---\n",
              "Signif. codes:  0 ‘***’ 0.001 ‘**’ 0.01 ‘*’ 0.05 ‘.’ 0.1 ‘ ’ 1\n",
              "\n",
              "Residual standard error: 3.094 on 381 degrees of freedom\n",
              "Multiple R-squared:  0.8469,\tAdjusted R-squared:  0.8429 \n",
              "F-statistic: 210.7 on 10 and 381 DF,  p-value: < 2.2e-16\n"
            ]
          },
          "metadata": {}
        }
      ]
    },
    {
      "cell_type": "code",
      "source": [
        "auto_step_backward <- step(full_auto_lm, direction='backward', trace=0)\n",
        "summary(auto_step_backward)"
      ],
      "metadata": {
        "id": "F1p7et2q7b6A",
        "colab": {
          "base_uri": "https://localhost:8080/",
          "height": 531
        },
        "outputId": "3ddb7412-df60-4531-9e8d-27a8fea7bafe"
      },
      "execution_count": 33,
      "outputs": [
        {
          "output_type": "display_data",
          "data": {
            "text/plain": [
              "\n",
              "Call:\n",
              "lm(formula = mpg ~ cylinders + displacement + horsepower + weight + \n",
              "    year + origin, data = df_auto)\n",
              "\n",
              "Residuals:\n",
              "    Min      1Q  Median      3Q     Max \n",
              "-8.7037 -1.9501 -0.0552  1.7105 12.7932 \n",
              "\n",
              "Coefficients:\n",
              "               Estimate Std. Error t value Pr(>|t|)    \n",
              "(Intercept)  -2.162e+01  4.231e+00  -5.111 5.09e-07 ***\n",
              "cylinders4    6.784e+00  1.637e+00   4.144 4.20e-05 ***\n",
              "cylinders5    7.147e+00  2.501e+00   2.857 0.004510 ** \n",
              "cylinders6    3.403e+00  1.813e+00   1.877 0.061262 .  \n",
              "cylinders8    5.137e+00  2.102e+00   2.444 0.014983 *  \n",
              "displacement  1.848e-02  7.169e-03   2.578 0.010312 *  \n",
              "horsepower   -3.706e-02  1.071e-02  -3.459 0.000604 ***\n",
              "weight       -5.696e-03  5.535e-04 -10.291  < 2e-16 ***\n",
              "year          7.358e-01  4.868e-02  15.114  < 2e-16 ***\n",
              "origin2       1.763e+00  5.506e-01   3.203 0.001476 ** \n",
              "origin3       2.621e+00  5.264e-01   4.979 9.71e-07 ***\n",
              "---\n",
              "Signif. codes:  0 ‘***’ 0.001 ‘**’ 0.01 ‘*’ 0.05 ‘.’ 0.1 ‘ ’ 1\n",
              "\n",
              "Residual standard error: 3.094 on 381 degrees of freedom\n",
              "Multiple R-squared:  0.8469,\tAdjusted R-squared:  0.8429 \n",
              "F-statistic: 210.7 on 10 and 381 DF,  p-value: < 2.2e-16\n"
            ]
          },
          "metadata": {}
        }
      ]
    },
    {
      "cell_type": "code",
      "source": [
        "auto_step_both <- step(full_auto_lm, direction = \"both\", trace = 0)\n",
        "summary(auto_step_both)"
      ],
      "metadata": {
        "id": "z1x3J64T45Ck",
        "colab": {
          "base_uri": "https://localhost:8080/",
          "height": 531
        },
        "outputId": "33812dc9-48be-4f62-c0b3-3e1ce58968f9"
      },
      "execution_count": 34,
      "outputs": [
        {
          "output_type": "display_data",
          "data": {
            "text/plain": [
              "\n",
              "Call:\n",
              "lm(formula = mpg ~ cylinders + displacement + horsepower + weight + \n",
              "    year + origin, data = df_auto)\n",
              "\n",
              "Residuals:\n",
              "    Min      1Q  Median      3Q     Max \n",
              "-8.7037 -1.9501 -0.0552  1.7105 12.7932 \n",
              "\n",
              "Coefficients:\n",
              "               Estimate Std. Error t value Pr(>|t|)    \n",
              "(Intercept)  -2.162e+01  4.231e+00  -5.111 5.09e-07 ***\n",
              "cylinders4    6.784e+00  1.637e+00   4.144 4.20e-05 ***\n",
              "cylinders5    7.147e+00  2.501e+00   2.857 0.004510 ** \n",
              "cylinders6    3.403e+00  1.813e+00   1.877 0.061262 .  \n",
              "cylinders8    5.137e+00  2.102e+00   2.444 0.014983 *  \n",
              "displacement  1.848e-02  7.169e-03   2.578 0.010312 *  \n",
              "horsepower   -3.706e-02  1.071e-02  -3.459 0.000604 ***\n",
              "weight       -5.696e-03  5.535e-04 -10.291  < 2e-16 ***\n",
              "year          7.358e-01  4.868e-02  15.114  < 2e-16 ***\n",
              "origin2       1.763e+00  5.506e-01   3.203 0.001476 ** \n",
              "origin3       2.621e+00  5.264e-01   4.979 9.71e-07 ***\n",
              "---\n",
              "Signif. codes:  0 ‘***’ 0.001 ‘**’ 0.01 ‘*’ 0.05 ‘.’ 0.1 ‘ ’ 1\n",
              "\n",
              "Residual standard error: 3.094 on 381 degrees of freedom\n",
              "Multiple R-squared:  0.8469,\tAdjusted R-squared:  0.8429 \n",
              "F-statistic: 210.7 on 10 and 381 DF,  p-value: < 2.2e-16\n"
            ]
          },
          "metadata": {}
        }
      ]
    },
    {
      "cell_type": "markdown",
      "source": [
        "## ISLR::Carseats\n"
      ],
      "metadata": {
        "id": "PX77ibkL8HfF"
      }
    },
    {
      "cell_type": "code",
      "source": [
        "df_carseats<- ISLR::Carseats\n",
        "head(df_carseats)"
      ],
      "metadata": {
        "id": "27XNJwv48K3e",
        "colab": {
          "base_uri": "https://localhost:8080/",
          "height": 286
        },
        "outputId": "bd9dc62a-6968-4d4c-8b6f-21e75cfe5f0e"
      },
      "execution_count": 35,
      "outputs": [
        {
          "output_type": "display_data",
          "data": {
            "text/html": [
              "<table class=\"dataframe\">\n",
              "<caption>A data.frame: 6 × 11</caption>\n",
              "<thead>\n",
              "\t<tr><th></th><th scope=col>Sales</th><th scope=col>CompPrice</th><th scope=col>Income</th><th scope=col>Advertising</th><th scope=col>Population</th><th scope=col>Price</th><th scope=col>ShelveLoc</th><th scope=col>Age</th><th scope=col>Education</th><th scope=col>Urban</th><th scope=col>US</th></tr>\n",
              "\t<tr><th></th><th scope=col>&lt;dbl&gt;</th><th scope=col>&lt;dbl&gt;</th><th scope=col>&lt;dbl&gt;</th><th scope=col>&lt;dbl&gt;</th><th scope=col>&lt;dbl&gt;</th><th scope=col>&lt;dbl&gt;</th><th scope=col>&lt;fct&gt;</th><th scope=col>&lt;dbl&gt;</th><th scope=col>&lt;dbl&gt;</th><th scope=col>&lt;fct&gt;</th><th scope=col>&lt;fct&gt;</th></tr>\n",
              "</thead>\n",
              "<tbody>\n",
              "\t<tr><th scope=row>1</th><td> 9.50</td><td>138</td><td> 73</td><td>11</td><td>276</td><td>120</td><td>Bad   </td><td>42</td><td>17</td><td>Yes</td><td>Yes</td></tr>\n",
              "\t<tr><th scope=row>2</th><td>11.22</td><td>111</td><td> 48</td><td>16</td><td>260</td><td> 83</td><td>Good  </td><td>65</td><td>10</td><td>Yes</td><td>Yes</td></tr>\n",
              "\t<tr><th scope=row>3</th><td>10.06</td><td>113</td><td> 35</td><td>10</td><td>269</td><td> 80</td><td>Medium</td><td>59</td><td>12</td><td>Yes</td><td>Yes</td></tr>\n",
              "\t<tr><th scope=row>4</th><td> 7.40</td><td>117</td><td>100</td><td> 4</td><td>466</td><td> 97</td><td>Medium</td><td>55</td><td>14</td><td>Yes</td><td>Yes</td></tr>\n",
              "\t<tr><th scope=row>5</th><td> 4.15</td><td>141</td><td> 64</td><td> 3</td><td>340</td><td>128</td><td>Bad   </td><td>38</td><td>13</td><td>Yes</td><td>No </td></tr>\n",
              "\t<tr><th scope=row>6</th><td>10.81</td><td>124</td><td>113</td><td>13</td><td>501</td><td> 72</td><td>Bad   </td><td>78</td><td>16</td><td>No </td><td>Yes</td></tr>\n",
              "</tbody>\n",
              "</table>\n"
            ],
            "text/markdown": "\nA data.frame: 6 × 11\n\n| <!--/--> | Sales &lt;dbl&gt; | CompPrice &lt;dbl&gt; | Income &lt;dbl&gt; | Advertising &lt;dbl&gt; | Population &lt;dbl&gt; | Price &lt;dbl&gt; | ShelveLoc &lt;fct&gt; | Age &lt;dbl&gt; | Education &lt;dbl&gt; | Urban &lt;fct&gt; | US &lt;fct&gt; |\n|---|---|---|---|---|---|---|---|---|---|---|---|\n| 1 |  9.50 | 138 |  73 | 11 | 276 | 120 | Bad    | 42 | 17 | Yes | Yes |\n| 2 | 11.22 | 111 |  48 | 16 | 260 |  83 | Good   | 65 | 10 | Yes | Yes |\n| 3 | 10.06 | 113 |  35 | 10 | 269 |  80 | Medium | 59 | 12 | Yes | Yes |\n| 4 |  7.40 | 117 | 100 |  4 | 466 |  97 | Medium | 55 | 14 | Yes | Yes |\n| 5 |  4.15 | 141 |  64 |  3 | 340 | 128 | Bad    | 38 | 13 | Yes | No  |\n| 6 | 10.81 | 124 | 113 | 13 | 501 |  72 | Bad    | 78 | 16 | No  | Yes |\n\n",
            "text/latex": "A data.frame: 6 × 11\n\\begin{tabular}{r|lllllllllll}\n  & Sales & CompPrice & Income & Advertising & Population & Price & ShelveLoc & Age & Education & Urban & US\\\\\n  & <dbl> & <dbl> & <dbl> & <dbl> & <dbl> & <dbl> & <fct> & <dbl> & <dbl> & <fct> & <fct>\\\\\n\\hline\n\t1 &  9.50 & 138 &  73 & 11 & 276 & 120 & Bad    & 42 & 17 & Yes & Yes\\\\\n\t2 & 11.22 & 111 &  48 & 16 & 260 &  83 & Good   & 65 & 10 & Yes & Yes\\\\\n\t3 & 10.06 & 113 &  35 & 10 & 269 &  80 & Medium & 59 & 12 & Yes & Yes\\\\\n\t4 &  7.40 & 117 & 100 &  4 & 466 &  97 & Medium & 55 & 14 & Yes & Yes\\\\\n\t5 &  4.15 & 141 &  64 &  3 & 340 & 128 & Bad    & 38 & 13 & Yes & No \\\\\n\t6 & 10.81 & 124 & 113 & 13 & 501 &  72 & Bad    & 78 & 16 & No  & Yes\\\\\n\\end{tabular}\n",
            "text/plain": [
              "  Sales CompPrice Income Advertising Population Price ShelveLoc Age Education\n",
              "1  9.50 138        73    11          276        120   Bad       42  17       \n",
              "2 11.22 111        48    16          260         83   Good      65  10       \n",
              "3 10.06 113        35    10          269         80   Medium    59  12       \n",
              "4  7.40 117       100     4          466         97   Medium    55  14       \n",
              "5  4.15 141        64     3          340        128   Bad       38  13       \n",
              "6 10.81 124       113    13          501         72   Bad       78  16       \n",
              "  Urban US \n",
              "1 Yes   Yes\n",
              "2 Yes   Yes\n",
              "3 Yes   Yes\n",
              "4 Yes   Yes\n",
              "5 Yes   No \n",
              "6 No    Yes"
            ]
          },
          "metadata": {}
        }
      ]
    },
    {
      "cell_type": "code",
      "source": [
        "null_carseats_lm <- lm(Sales ~ 1, data = df_carseats)\n",
        "summary(null_carseats_lm)"
      ],
      "metadata": {
        "id": "mdWyFHc68bvu",
        "colab": {
          "base_uri": "https://localhost:8080/",
          "height": 293
        },
        "outputId": "7c860dcd-180a-4cb2-d175-56b2295b16a7"
      },
      "execution_count": 36,
      "outputs": [
        {
          "output_type": "display_data",
          "data": {
            "text/plain": [
              "\n",
              "Call:\n",
              "lm(formula = Sales ~ 1, data = df_carseats)\n",
              "\n",
              "Residuals:\n",
              "    Min      1Q  Median      3Q     Max \n",
              "-7.4963 -2.1063 -0.0063  1.8237  8.7737 \n",
              "\n",
              "Coefficients:\n",
              "            Estimate Std. Error t value Pr(>|t|)    \n",
              "(Intercept)   7.4963     0.1412   53.09   <2e-16 ***\n",
              "---\n",
              "Signif. codes:  0 ‘***’ 0.001 ‘**’ 0.01 ‘*’ 0.05 ‘.’ 0.1 ‘ ’ 1\n",
              "\n",
              "Residual standard error: 2.824 on 399 degrees of freedom\n"
            ]
          },
          "metadata": {}
        }
      ]
    },
    {
      "cell_type": "code",
      "source": [
        "full_carseats_lm <- lm(Sales ~ CompPrice + Income + Advertising + Population + Price + ShelveLoc + Age + Education + Urban + US, data = df_carseats)\n",
        "summary(full_carseats_lm)"
      ],
      "metadata": {
        "id": "frslIH5v8d45",
        "colab": {
          "base_uri": "https://localhost:8080/",
          "height": 550
        },
        "outputId": "75c61064-7023-4c01-faf3-4e74157a77ab"
      },
      "execution_count": 37,
      "outputs": [
        {
          "output_type": "display_data",
          "data": {
            "text/plain": [
              "\n",
              "Call:\n",
              "lm(formula = Sales ~ CompPrice + Income + Advertising + Population + \n",
              "    Price + ShelveLoc + Age + Education + Urban + US, data = df_carseats)\n",
              "\n",
              "Residuals:\n",
              "    Min      1Q  Median      3Q     Max \n",
              "-2.8692 -0.6908  0.0211  0.6636  3.4115 \n",
              "\n",
              "Coefficients:\n",
              "                  Estimate Std. Error t value Pr(>|t|)    \n",
              "(Intercept)      5.6606231  0.6034487   9.380  < 2e-16 ***\n",
              "CompPrice        0.0928153  0.0041477  22.378  < 2e-16 ***\n",
              "Income           0.0158028  0.0018451   8.565 2.58e-16 ***\n",
              "Advertising      0.1230951  0.0111237  11.066  < 2e-16 ***\n",
              "Population       0.0002079  0.0003705   0.561    0.575    \n",
              "Price           -0.0953579  0.0026711 -35.700  < 2e-16 ***\n",
              "ShelveLocGood    4.8501827  0.1531100  31.678  < 2e-16 ***\n",
              "ShelveLocMedium  1.9567148  0.1261056  15.516  < 2e-16 ***\n",
              "Age             -0.0460452  0.0031817 -14.472  < 2e-16 ***\n",
              "Education       -0.0211018  0.0197205  -1.070    0.285    \n",
              "UrbanYes         0.1228864  0.1129761   1.088    0.277    \n",
              "USYes           -0.1840928  0.1498423  -1.229    0.220    \n",
              "---\n",
              "Signif. codes:  0 ‘***’ 0.001 ‘**’ 0.01 ‘*’ 0.05 ‘.’ 0.1 ‘ ’ 1\n",
              "\n",
              "Residual standard error: 1.019 on 388 degrees of freedom\n",
              "Multiple R-squared:  0.8734,\tAdjusted R-squared:  0.8698 \n",
              "F-statistic: 243.4 on 11 and 388 DF,  p-value: < 2.2e-16\n"
            ]
          },
          "metadata": {}
        }
      ]
    },
    {
      "cell_type": "code",
      "source": [
        "carseats_step_forward <- step(null_carseats_lm, scope=formula(full_carseats_lm), direction='forward', trace=0)\n",
        "summary(carseats_step_forward)"
      ],
      "metadata": {
        "id": "Ofq0g2BV9hhd",
        "colab": {
          "base_uri": "https://localhost:8080/",
          "height": 476
        },
        "outputId": "d8f53b70-5a4b-42ac-df7b-d8d90c0a61a6"
      },
      "execution_count": 38,
      "outputs": [
        {
          "output_type": "display_data",
          "data": {
            "text/plain": [
              "\n",
              "Call:\n",
              "lm(formula = Sales ~ ShelveLoc + Price + CompPrice + Advertising + \n",
              "    Age + Income, data = df_carseats)\n",
              "\n",
              "Residuals:\n",
              "    Min      1Q  Median      3Q     Max \n",
              "-2.7728 -0.6954  0.0282  0.6732  3.3292 \n",
              "\n",
              "Coefficients:\n",
              "                 Estimate Std. Error t value Pr(>|t|)    \n",
              "(Intercept)      5.475226   0.505005   10.84   <2e-16 ***\n",
              "ShelveLocGood    4.835675   0.152499   31.71   <2e-16 ***\n",
              "ShelveLocMedium  1.951993   0.125375   15.57   <2e-16 ***\n",
              "Price           -0.095319   0.002670  -35.70   <2e-16 ***\n",
              "CompPrice        0.092571   0.004123   22.45   <2e-16 ***\n",
              "Advertising      0.115903   0.007724   15.01   <2e-16 ***\n",
              "Age             -0.046128   0.003177  -14.52   <2e-16 ***\n",
              "Income           0.015785   0.001838    8.59   <2e-16 ***\n",
              "---\n",
              "Signif. codes:  0 ‘***’ 0.001 ‘**’ 0.01 ‘*’ 0.05 ‘.’ 0.1 ‘ ’ 1\n",
              "\n",
              "Residual standard error: 1.019 on 392 degrees of freedom\n",
              "Multiple R-squared:  0.872,\tAdjusted R-squared:  0.8697 \n",
              "F-statistic: 381.4 on 7 and 392 DF,  p-value: < 2.2e-16\n"
            ]
          },
          "metadata": {}
        }
      ]
    },
    {
      "cell_type": "code",
      "source": [
        "carseats_step_backward <- step(full_carseats_lm, direction='backward', trace=0)\n",
        "summary(carseats_step_backward)"
      ],
      "metadata": {
        "id": "rPO1ijfw97hZ",
        "colab": {
          "base_uri": "https://localhost:8080/",
          "height": 476
        },
        "outputId": "bb4993de-1249-4938-8067-22100bff7d99"
      },
      "execution_count": 39,
      "outputs": [
        {
          "output_type": "display_data",
          "data": {
            "text/plain": [
              "\n",
              "Call:\n",
              "lm(formula = Sales ~ CompPrice + Income + Advertising + Price + \n",
              "    ShelveLoc + Age, data = df_carseats)\n",
              "\n",
              "Residuals:\n",
              "    Min      1Q  Median      3Q     Max \n",
              "-2.7728 -0.6954  0.0282  0.6732  3.3292 \n",
              "\n",
              "Coefficients:\n",
              "                 Estimate Std. Error t value Pr(>|t|)    \n",
              "(Intercept)      5.475226   0.505005   10.84   <2e-16 ***\n",
              "CompPrice        0.092571   0.004123   22.45   <2e-16 ***\n",
              "Income           0.015785   0.001838    8.59   <2e-16 ***\n",
              "Advertising      0.115903   0.007724   15.01   <2e-16 ***\n",
              "Price           -0.095319   0.002670  -35.70   <2e-16 ***\n",
              "ShelveLocGood    4.835675   0.152499   31.71   <2e-16 ***\n",
              "ShelveLocMedium  1.951993   0.125375   15.57   <2e-16 ***\n",
              "Age             -0.046128   0.003177  -14.52   <2e-16 ***\n",
              "---\n",
              "Signif. codes:  0 ‘***’ 0.001 ‘**’ 0.01 ‘*’ 0.05 ‘.’ 0.1 ‘ ’ 1\n",
              "\n",
              "Residual standard error: 1.019 on 392 degrees of freedom\n",
              "Multiple R-squared:  0.872,\tAdjusted R-squared:  0.8697 \n",
              "F-statistic: 381.4 on 7 and 392 DF,  p-value: < 2.2e-16\n"
            ]
          },
          "metadata": {}
        }
      ]
    },
    {
      "cell_type": "code",
      "source": [
        "carseats_step_both <- step(full_carseats_lm, direction = \"both\", trace = 0)\n",
        "summary(carseats_step_both)"
      ],
      "metadata": {
        "id": "AQ-O3aw0-NTy",
        "colab": {
          "base_uri": "https://localhost:8080/",
          "height": 476
        },
        "outputId": "e917c3d4-bf57-46b2-fe96-b841b6795280"
      },
      "execution_count": 40,
      "outputs": [
        {
          "output_type": "display_data",
          "data": {
            "text/plain": [
              "\n",
              "Call:\n",
              "lm(formula = Sales ~ CompPrice + Income + Advertising + Price + \n",
              "    ShelveLoc + Age, data = df_carseats)\n",
              "\n",
              "Residuals:\n",
              "    Min      1Q  Median      3Q     Max \n",
              "-2.7728 -0.6954  0.0282  0.6732  3.3292 \n",
              "\n",
              "Coefficients:\n",
              "                 Estimate Std. Error t value Pr(>|t|)    \n",
              "(Intercept)      5.475226   0.505005   10.84   <2e-16 ***\n",
              "CompPrice        0.092571   0.004123   22.45   <2e-16 ***\n",
              "Income           0.015785   0.001838    8.59   <2e-16 ***\n",
              "Advertising      0.115903   0.007724   15.01   <2e-16 ***\n",
              "Price           -0.095319   0.002670  -35.70   <2e-16 ***\n",
              "ShelveLocGood    4.835675   0.152499   31.71   <2e-16 ***\n",
              "ShelveLocMedium  1.951993   0.125375   15.57   <2e-16 ***\n",
              "Age             -0.046128   0.003177  -14.52   <2e-16 ***\n",
              "---\n",
              "Signif. codes:  0 ‘***’ 0.001 ‘**’ 0.01 ‘*’ 0.05 ‘.’ 0.1 ‘ ’ 1\n",
              "\n",
              "Residual standard error: 1.019 on 392 degrees of freedom\n",
              "Multiple R-squared:  0.872,\tAdjusted R-squared:  0.8697 \n",
              "F-statistic: 381.4 on 7 and 392 DF,  p-value: < 2.2e-16\n"
            ]
          },
          "metadata": {}
        }
      ]
    },
    {
      "cell_type": "markdown",
      "source": [
        "## ISLR::Credit"
      ],
      "metadata": {
        "id": "JXZSIy3B_cZb"
      }
    },
    {
      "cell_type": "code",
      "source": [
        "df_credit <- ISLR::Credit\n",
        "head(df_credit)"
      ],
      "metadata": {
        "id": "nPi7R7-4-nE6",
        "colab": {
          "base_uri": "https://localhost:8080/",
          "height": 306
        },
        "outputId": "cae9d2d2-f8a9-4feb-b210-2f9e3dd0574d"
      },
      "execution_count": 41,
      "outputs": [
        {
          "output_type": "display_data",
          "data": {
            "text/html": [
              "<table class=\"dataframe\">\n",
              "<caption>A data.frame: 6 × 12</caption>\n",
              "<thead>\n",
              "\t<tr><th></th><th scope=col>ID</th><th scope=col>Income</th><th scope=col>Limit</th><th scope=col>Rating</th><th scope=col>Cards</th><th scope=col>Age</th><th scope=col>Education</th><th scope=col>Gender</th><th scope=col>Student</th><th scope=col>Married</th><th scope=col>Ethnicity</th><th scope=col>Balance</th></tr>\n",
              "\t<tr><th></th><th scope=col>&lt;int&gt;</th><th scope=col>&lt;dbl&gt;</th><th scope=col>&lt;int&gt;</th><th scope=col>&lt;int&gt;</th><th scope=col>&lt;int&gt;</th><th scope=col>&lt;int&gt;</th><th scope=col>&lt;int&gt;</th><th scope=col>&lt;fct&gt;</th><th scope=col>&lt;fct&gt;</th><th scope=col>&lt;fct&gt;</th><th scope=col>&lt;fct&gt;</th><th scope=col>&lt;int&gt;</th></tr>\n",
              "</thead>\n",
              "<tbody>\n",
              "\t<tr><th scope=row>1</th><td>1</td><td> 14.891</td><td>3606</td><td>283</td><td>2</td><td>34</td><td>11</td><td> Male </td><td>No </td><td>Yes</td><td>Caucasian</td><td> 333</td></tr>\n",
              "\t<tr><th scope=row>2</th><td>2</td><td>106.025</td><td>6645</td><td>483</td><td>3</td><td>82</td><td>15</td><td>Female</td><td>Yes</td><td>Yes</td><td>Asian    </td><td> 903</td></tr>\n",
              "\t<tr><th scope=row>3</th><td>3</td><td>104.593</td><td>7075</td><td>514</td><td>4</td><td>71</td><td>11</td><td> Male </td><td>No </td><td>No </td><td>Asian    </td><td> 580</td></tr>\n",
              "\t<tr><th scope=row>4</th><td>4</td><td>148.924</td><td>9504</td><td>681</td><td>3</td><td>36</td><td>11</td><td>Female</td><td>No </td><td>No </td><td>Asian    </td><td> 964</td></tr>\n",
              "\t<tr><th scope=row>5</th><td>5</td><td> 55.882</td><td>4897</td><td>357</td><td>2</td><td>68</td><td>16</td><td> Male </td><td>No </td><td>Yes</td><td>Caucasian</td><td> 331</td></tr>\n",
              "\t<tr><th scope=row>6</th><td>6</td><td> 80.180</td><td>8047</td><td>569</td><td>4</td><td>77</td><td>10</td><td> Male </td><td>No </td><td>No </td><td>Caucasian</td><td>1151</td></tr>\n",
              "</tbody>\n",
              "</table>\n"
            ],
            "text/markdown": "\nA data.frame: 6 × 12\n\n| <!--/--> | ID &lt;int&gt; | Income &lt;dbl&gt; | Limit &lt;int&gt; | Rating &lt;int&gt; | Cards &lt;int&gt; | Age &lt;int&gt; | Education &lt;int&gt; | Gender &lt;fct&gt; | Student &lt;fct&gt; | Married &lt;fct&gt; | Ethnicity &lt;fct&gt; | Balance &lt;int&gt; |\n|---|---|---|---|---|---|---|---|---|---|---|---|---|\n| 1 | 1 |  14.891 | 3606 | 283 | 2 | 34 | 11 |  Male  | No  | Yes | Caucasian |  333 |\n| 2 | 2 | 106.025 | 6645 | 483 | 3 | 82 | 15 | Female | Yes | Yes | Asian     |  903 |\n| 3 | 3 | 104.593 | 7075 | 514 | 4 | 71 | 11 |  Male  | No  | No  | Asian     |  580 |\n| 4 | 4 | 148.924 | 9504 | 681 | 3 | 36 | 11 | Female | No  | No  | Asian     |  964 |\n| 5 | 5 |  55.882 | 4897 | 357 | 2 | 68 | 16 |  Male  | No  | Yes | Caucasian |  331 |\n| 6 | 6 |  80.180 | 8047 | 569 | 4 | 77 | 10 |  Male  | No  | No  | Caucasian | 1151 |\n\n",
            "text/latex": "A data.frame: 6 × 12\n\\begin{tabular}{r|llllllllllll}\n  & ID & Income & Limit & Rating & Cards & Age & Education & Gender & Student & Married & Ethnicity & Balance\\\\\n  & <int> & <dbl> & <int> & <int> & <int> & <int> & <int> & <fct> & <fct> & <fct> & <fct> & <int>\\\\\n\\hline\n\t1 & 1 &  14.891 & 3606 & 283 & 2 & 34 & 11 &  Male  & No  & Yes & Caucasian &  333\\\\\n\t2 & 2 & 106.025 & 6645 & 483 & 3 & 82 & 15 & Female & Yes & Yes & Asian     &  903\\\\\n\t3 & 3 & 104.593 & 7075 & 514 & 4 & 71 & 11 &  Male  & No  & No  & Asian     &  580\\\\\n\t4 & 4 & 148.924 & 9504 & 681 & 3 & 36 & 11 & Female & No  & No  & Asian     &  964\\\\\n\t5 & 5 &  55.882 & 4897 & 357 & 2 & 68 & 16 &  Male  & No  & Yes & Caucasian &  331\\\\\n\t6 & 6 &  80.180 & 8047 & 569 & 4 & 77 & 10 &  Male  & No  & No  & Caucasian & 1151\\\\\n\\end{tabular}\n",
            "text/plain": [
              "  ID Income  Limit Rating Cards Age Education Gender Student Married Ethnicity\n",
              "1 1   14.891 3606  283    2     34  11         Male  No      Yes     Caucasian\n",
              "2 2  106.025 6645  483    3     82  15        Female Yes     Yes     Asian    \n",
              "3 3  104.593 7075  514    4     71  11         Male  No      No      Asian    \n",
              "4 4  148.924 9504  681    3     36  11        Female No      No      Asian    \n",
              "5 5   55.882 4897  357    2     68  16         Male  No      Yes     Caucasian\n",
              "6 6   80.180 8047  569    4     77  10         Male  No      No      Caucasian\n",
              "  Balance\n",
              "1  333   \n",
              "2  903   \n",
              "3  580   \n",
              "4  964   \n",
              "5  331   \n",
              "6 1151   "
            ]
          },
          "metadata": {}
        }
      ]
    },
    {
      "cell_type": "code",
      "source": [
        "null_credit_lm <- lm(Balance ~ 1, data = df_credit)\n",
        "summary(null_credit_lm)"
      ],
      "metadata": {
        "id": "EjfWEbf6_VW1",
        "colab": {
          "base_uri": "https://localhost:8080/",
          "height": 1000
        },
        "outputId": "2b4fd921-5505-44c1-f69f-41149738420b"
      },
      "execution_count": 42,
      "outputs": [
        {
          "output_type": "display_data",
          "data": {
            "text/plain": [
              "\n",
              "Call:\n",
              "lm(formula = Balance ~ 1, data = df_credit)\n",
              "\n",
              "Residuals:\n",
              "    Min      1Q  Median      3Q     Max \n",
              "-520.02 -451.26  -60.52  342.98 1478.99 \n",
              "\n",
              "Coefficients:\n",
              "            Estimate Std. Error t value Pr(>|t|)    \n",
              "(Intercept)   520.02      22.99   22.62   <2e-16 ***\n",
              "---\n",
              "Signif. codes:  0 ‘***’ 0.001 ‘**’ 0.01 ‘*’ 0.05 ‘.’ 0.1 ‘ ’ 1\n",
              "\n",
              "Residual standard error: 459.8 on 399 degrees of freedom\n"
            ]
          },
          "metadata": {}
        }
      ]
    },
    {
      "cell_type": "code",
      "source": [
        "full_credit_lm <- lm(Balance ~ Income + Limit + Rating + Cards + Age + Education + Gender + Student + Married + Ethnicity, data = df_credit)\n",
        "summary(full_credit_lm)"
      ],
      "metadata": {
        "id": "h6pyqH5K_gtJ",
        "colab": {
          "base_uri": "https://localhost:8080/",
          "height": 1000
        },
        "outputId": "a341a5a2-c863-4c74-8af9-9b6f50188a8a"
      },
      "execution_count": 43,
      "outputs": [
        {
          "output_type": "display_data",
          "data": {
            "text/plain": [
              "\n",
              "Call:\n",
              "lm(formula = Balance ~ Income + Limit + Rating + Cards + Age + \n",
              "    Education + Gender + Student + Married + Ethnicity, data = df_credit)\n",
              "\n",
              "Residuals:\n",
              "    Min      1Q  Median      3Q     Max \n",
              "-161.64  -77.70  -13.49   53.98  318.20 \n",
              "\n",
              "Coefficients:\n",
              "                     Estimate Std. Error t value Pr(>|t|)    \n",
              "(Intercept)        -479.20787   35.77394 -13.395  < 2e-16 ***\n",
              "Income               -7.80310    0.23423 -33.314  < 2e-16 ***\n",
              "Limit                 0.19091    0.03278   5.824 1.21e-08 ***\n",
              "Rating                1.13653    0.49089   2.315   0.0211 *  \n",
              "Cards                17.72448    4.34103   4.083 5.40e-05 ***\n",
              "Age                  -0.61391    0.29399  -2.088   0.0374 *  \n",
              "Education            -1.09886    1.59795  -0.688   0.4921    \n",
              "GenderFemale        -10.65325    9.91400  -1.075   0.2832    \n",
              "StudentYes          425.74736   16.72258  25.459  < 2e-16 ***\n",
              "MarriedYes           -8.53390   10.36287  -0.824   0.4107    \n",
              "EthnicityAsian       16.80418   14.11906   1.190   0.2347    \n",
              "EthnicityCaucasian   10.10703   12.20992   0.828   0.4083    \n",
              "---\n",
              "Signif. codes:  0 ‘***’ 0.001 ‘**’ 0.01 ‘*’ 0.05 ‘.’ 0.1 ‘ ’ 1\n",
              "\n",
              "Residual standard error: 98.79 on 388 degrees of freedom\n",
              "Multiple R-squared:  0.9551,\tAdjusted R-squared:  0.9538 \n",
              "F-statistic: 750.3 on 11 and 388 DF,  p-value: < 2.2e-16\n"
            ]
          },
          "metadata": {}
        }
      ]
    },
    {
      "cell_type": "code",
      "source": [
        "credit_step_forward <- step(null_credit_lm, scope=formula(full_credit_lm), direction='forward', trace=0)\n",
        "summary(credit_step_forward)"
      ],
      "metadata": {
        "id": "OhuMLM9X_iZA",
        "colab": {
          "base_uri": "https://localhost:8080/",
          "height": 1000
        },
        "outputId": "2b2c3cf1-d09e-461b-8443-153b44495be2"
      },
      "execution_count": 44,
      "outputs": [
        {
          "output_type": "display_data",
          "data": {
            "text/plain": [
              "\n",
              "Call:\n",
              "lm(formula = Balance ~ Rating + Income + Student + Limit + Cards + \n",
              "    Age, data = df_credit)\n",
              "\n",
              "Residuals:\n",
              "    Min      1Q  Median      3Q     Max \n",
              "-170.00  -77.85  -11.84   56.87  313.52 \n",
              "\n",
              "Coefficients:\n",
              "              Estimate Std. Error t value Pr(>|t|)    \n",
              "(Intercept) -493.73419   24.82476 -19.889  < 2e-16 ***\n",
              "Rating         1.09119    0.48480   2.251   0.0250 *  \n",
              "Income        -7.79508    0.23342 -33.395  < 2e-16 ***\n",
              "StudentYes   425.60994   16.50956  25.780  < 2e-16 ***\n",
              "Limit          0.19369    0.03238   5.981 4.98e-09 ***\n",
              "Cards         18.21190    4.31865   4.217 3.08e-05 ***\n",
              "Age           -0.62406    0.29182  -2.139   0.0331 *  \n",
              "---\n",
              "Signif. codes:  0 ‘***’ 0.001 ‘**’ 0.01 ‘*’ 0.05 ‘.’ 0.1 ‘ ’ 1\n",
              "\n",
              "Residual standard error: 98.61 on 393 degrees of freedom\n",
              "Multiple R-squared:  0.9547,\tAdjusted R-squared:  0.954 \n",
              "F-statistic:  1380 on 6 and 393 DF,  p-value: < 2.2e-16\n"
            ]
          },
          "metadata": {}
        }
      ]
    },
    {
      "cell_type": "code",
      "source": [
        "credit_step_backward <- step(full_credit_lm, direction='backward', trace=0)\n",
        "summary(credit_step_backward)"
      ],
      "metadata": {
        "id": "KmE_FU2c_jct",
        "colab": {
          "base_uri": "https://localhost:8080/",
          "height": 1000
        },
        "outputId": "910fb185-276b-46cd-d402-152ae1f64a0a"
      },
      "execution_count": 45,
      "outputs": [
        {
          "output_type": "display_data",
          "data": {
            "text/plain": [
              "\n",
              "Call:\n",
              "lm(formula = Balance ~ Income + Limit + Rating + Cards + Age + \n",
              "    Student, data = df_credit)\n",
              "\n",
              "Residuals:\n",
              "    Min      1Q  Median      3Q     Max \n",
              "-170.00  -77.85  -11.84   56.87  313.52 \n",
              "\n",
              "Coefficients:\n",
              "              Estimate Std. Error t value Pr(>|t|)    \n",
              "(Intercept) -493.73419   24.82476 -19.889  < 2e-16 ***\n",
              "Income        -7.79508    0.23342 -33.395  < 2e-16 ***\n",
              "Limit          0.19369    0.03238   5.981 4.98e-09 ***\n",
              "Rating         1.09119    0.48480   2.251   0.0250 *  \n",
              "Cards         18.21190    4.31865   4.217 3.08e-05 ***\n",
              "Age           -0.62406    0.29182  -2.139   0.0331 *  \n",
              "StudentYes   425.60994   16.50956  25.780  < 2e-16 ***\n",
              "---\n",
              "Signif. codes:  0 ‘***’ 0.001 ‘**’ 0.01 ‘*’ 0.05 ‘.’ 0.1 ‘ ’ 1\n",
              "\n",
              "Residual standard error: 98.61 on 393 degrees of freedom\n",
              "Multiple R-squared:  0.9547,\tAdjusted R-squared:  0.954 \n",
              "F-statistic:  1380 on 6 and 393 DF,  p-value: < 2.2e-16\n"
            ]
          },
          "metadata": {}
        }
      ]
    },
    {
      "cell_type": "code",
      "source": [
        "credit_step_both <- step(full_credit_lm, direction = \"both\", trace = 0)\n",
        "summary(credit_step_both)"
      ],
      "metadata": {
        "id": "psEw-D-p_knq",
        "colab": {
          "base_uri": "https://localhost:8080/",
          "height": 1000
        },
        "outputId": "db9fb55b-9e27-459d-a3a7-dd1caf179863"
      },
      "execution_count": 46,
      "outputs": [
        {
          "output_type": "display_data",
          "data": {
            "text/plain": [
              "\n",
              "Call:\n",
              "lm(formula = Balance ~ Income + Limit + Rating + Cards + Age + \n",
              "    Student, data = df_credit)\n",
              "\n",
              "Residuals:\n",
              "    Min      1Q  Median      3Q     Max \n",
              "-170.00  -77.85  -11.84   56.87  313.52 \n",
              "\n",
              "Coefficients:\n",
              "              Estimate Std. Error t value Pr(>|t|)    \n",
              "(Intercept) -493.73419   24.82476 -19.889  < 2e-16 ***\n",
              "Income        -7.79508    0.23342 -33.395  < 2e-16 ***\n",
              "Limit          0.19369    0.03238   5.981 4.98e-09 ***\n",
              "Rating         1.09119    0.48480   2.251   0.0250 *  \n",
              "Cards         18.21190    4.31865   4.217 3.08e-05 ***\n",
              "Age           -0.62406    0.29182  -2.139   0.0331 *  \n",
              "StudentYes   425.60994   16.50956  25.780  < 2e-16 ***\n",
              "---\n",
              "Signif. codes:  0 ‘***’ 0.001 ‘**’ 0.01 ‘*’ 0.05 ‘.’ 0.1 ‘ ’ 1\n",
              "\n",
              "Residual standard error: 98.61 on 393 degrees of freedom\n",
              "Multiple R-squared:  0.9547,\tAdjusted R-squared:  0.954 \n",
              "F-statistic:  1380 on 6 and 393 DF,  p-value: < 2.2e-16\n"
            ]
          },
          "metadata": {}
        }
      ]
    },
    {
      "cell_type": "markdown",
      "source": [
        "## ISLR::Hitters"
      ],
      "metadata": {
        "id": "tSoTCn4DYw8y"
      }
    },
    {
      "cell_type": "code",
      "source": [
        "df_hitters <- ISLR::Hitters\n",
        "head(df_hitters)"
      ],
      "metadata": {
        "id": "pcPEjygsZLsi",
        "colab": {
          "base_uri": "https://localhost:8080/",
          "height": 286
        },
        "outputId": "32fe1c77-93b6-4125-eeeb-21e72aeb8a11"
      },
      "execution_count": 47,
      "outputs": [
        {
          "output_type": "display_data",
          "data": {
            "text/html": [
              "<table class=\"dataframe\">\n",
              "<caption>A data.frame: 6 × 20</caption>\n",
              "<thead>\n",
              "\t<tr><th></th><th scope=col>AtBat</th><th scope=col>Hits</th><th scope=col>HmRun</th><th scope=col>Runs</th><th scope=col>RBI</th><th scope=col>Walks</th><th scope=col>Years</th><th scope=col>CAtBat</th><th scope=col>CHits</th><th scope=col>CHmRun</th><th scope=col>CRuns</th><th scope=col>CRBI</th><th scope=col>CWalks</th><th scope=col>League</th><th scope=col>Division</th><th scope=col>PutOuts</th><th scope=col>Assists</th><th scope=col>Errors</th><th scope=col>Salary</th><th scope=col>NewLeague</th></tr>\n",
              "\t<tr><th></th><th scope=col>&lt;int&gt;</th><th scope=col>&lt;int&gt;</th><th scope=col>&lt;int&gt;</th><th scope=col>&lt;int&gt;</th><th scope=col>&lt;int&gt;</th><th scope=col>&lt;int&gt;</th><th scope=col>&lt;int&gt;</th><th scope=col>&lt;int&gt;</th><th scope=col>&lt;int&gt;</th><th scope=col>&lt;int&gt;</th><th scope=col>&lt;int&gt;</th><th scope=col>&lt;int&gt;</th><th scope=col>&lt;int&gt;</th><th scope=col>&lt;fct&gt;</th><th scope=col>&lt;fct&gt;</th><th scope=col>&lt;int&gt;</th><th scope=col>&lt;int&gt;</th><th scope=col>&lt;int&gt;</th><th scope=col>&lt;dbl&gt;</th><th scope=col>&lt;fct&gt;</th></tr>\n",
              "</thead>\n",
              "<tbody>\n",
              "\t<tr><th scope=row>-Andy Allanson</th><td>293</td><td> 66</td><td> 1</td><td>30</td><td>29</td><td>14</td><td> 1</td><td> 293</td><td>  66</td><td>  1</td><td> 30</td><td> 29</td><td> 14</td><td>A</td><td>E</td><td>446</td><td> 33</td><td>20</td><td>   NA</td><td>A</td></tr>\n",
              "\t<tr><th scope=row>-Alan Ashby</th><td>315</td><td> 81</td><td> 7</td><td>24</td><td>38</td><td>39</td><td>14</td><td>3449</td><td> 835</td><td> 69</td><td>321</td><td>414</td><td>375</td><td>N</td><td>W</td><td>632</td><td> 43</td><td>10</td><td>475.0</td><td>N</td></tr>\n",
              "\t<tr><th scope=row>-Alvin Davis</th><td>479</td><td>130</td><td>18</td><td>66</td><td>72</td><td>76</td><td> 3</td><td>1624</td><td> 457</td><td> 63</td><td>224</td><td>266</td><td>263</td><td>A</td><td>W</td><td>880</td><td> 82</td><td>14</td><td>480.0</td><td>A</td></tr>\n",
              "\t<tr><th scope=row>-Andre Dawson</th><td>496</td><td>141</td><td>20</td><td>65</td><td>78</td><td>37</td><td>11</td><td>5628</td><td>1575</td><td>225</td><td>828</td><td>838</td><td>354</td><td>N</td><td>E</td><td>200</td><td> 11</td><td> 3</td><td>500.0</td><td>N</td></tr>\n",
              "\t<tr><th scope=row>-Andres Galarraga</th><td>321</td><td> 87</td><td>10</td><td>39</td><td>42</td><td>30</td><td> 2</td><td> 396</td><td> 101</td><td> 12</td><td> 48</td><td> 46</td><td> 33</td><td>N</td><td>E</td><td>805</td><td> 40</td><td> 4</td><td> 91.5</td><td>N</td></tr>\n",
              "\t<tr><th scope=row>-Alfredo Griffin</th><td>594</td><td>169</td><td> 4</td><td>74</td><td>51</td><td>35</td><td>11</td><td>4408</td><td>1133</td><td> 19</td><td>501</td><td>336</td><td>194</td><td>A</td><td>W</td><td>282</td><td>421</td><td>25</td><td>750.0</td><td>A</td></tr>\n",
              "</tbody>\n",
              "</table>\n"
            ],
            "text/markdown": "\nA data.frame: 6 × 20\n\n| <!--/--> | AtBat &lt;int&gt; | Hits &lt;int&gt; | HmRun &lt;int&gt; | Runs &lt;int&gt; | RBI &lt;int&gt; | Walks &lt;int&gt; | Years &lt;int&gt; | CAtBat &lt;int&gt; | CHits &lt;int&gt; | CHmRun &lt;int&gt; | CRuns &lt;int&gt; | CRBI &lt;int&gt; | CWalks &lt;int&gt; | League &lt;fct&gt; | Division &lt;fct&gt; | PutOuts &lt;int&gt; | Assists &lt;int&gt; | Errors &lt;int&gt; | Salary &lt;dbl&gt; | NewLeague &lt;fct&gt; |\n|---|---|---|---|---|---|---|---|---|---|---|---|---|---|---|---|---|---|---|---|---|\n| -Andy Allanson | 293 |  66 |  1 | 30 | 29 | 14 |  1 |  293 |   66 |   1 |  30 |  29 |  14 | A | E | 446 |  33 | 20 |    NA | A |\n| -Alan Ashby | 315 |  81 |  7 | 24 | 38 | 39 | 14 | 3449 |  835 |  69 | 321 | 414 | 375 | N | W | 632 |  43 | 10 | 475.0 | N |\n| -Alvin Davis | 479 | 130 | 18 | 66 | 72 | 76 |  3 | 1624 |  457 |  63 | 224 | 266 | 263 | A | W | 880 |  82 | 14 | 480.0 | A |\n| -Andre Dawson | 496 | 141 | 20 | 65 | 78 | 37 | 11 | 5628 | 1575 | 225 | 828 | 838 | 354 | N | E | 200 |  11 |  3 | 500.0 | N |\n| -Andres Galarraga | 321 |  87 | 10 | 39 | 42 | 30 |  2 |  396 |  101 |  12 |  48 |  46 |  33 | N | E | 805 |  40 |  4 |  91.5 | N |\n| -Alfredo Griffin | 594 | 169 |  4 | 74 | 51 | 35 | 11 | 4408 | 1133 |  19 | 501 | 336 | 194 | A | W | 282 | 421 | 25 | 750.0 | A |\n\n",
            "text/latex": "A data.frame: 6 × 20\n\\begin{tabular}{r|llllllllllllllllllll}\n  & AtBat & Hits & HmRun & Runs & RBI & Walks & Years & CAtBat & CHits & CHmRun & CRuns & CRBI & CWalks & League & Division & PutOuts & Assists & Errors & Salary & NewLeague\\\\\n  & <int> & <int> & <int> & <int> & <int> & <int> & <int> & <int> & <int> & <int> & <int> & <int> & <int> & <fct> & <fct> & <int> & <int> & <int> & <dbl> & <fct>\\\\\n\\hline\n\t-Andy Allanson & 293 &  66 &  1 & 30 & 29 & 14 &  1 &  293 &   66 &   1 &  30 &  29 &  14 & A & E & 446 &  33 & 20 &    NA & A\\\\\n\t-Alan Ashby & 315 &  81 &  7 & 24 & 38 & 39 & 14 & 3449 &  835 &  69 & 321 & 414 & 375 & N & W & 632 &  43 & 10 & 475.0 & N\\\\\n\t-Alvin Davis & 479 & 130 & 18 & 66 & 72 & 76 &  3 & 1624 &  457 &  63 & 224 & 266 & 263 & A & W & 880 &  82 & 14 & 480.0 & A\\\\\n\t-Andre Dawson & 496 & 141 & 20 & 65 & 78 & 37 & 11 & 5628 & 1575 & 225 & 828 & 838 & 354 & N & E & 200 &  11 &  3 & 500.0 & N\\\\\n\t-Andres Galarraga & 321 &  87 & 10 & 39 & 42 & 30 &  2 &  396 &  101 &  12 &  48 &  46 &  33 & N & E & 805 &  40 &  4 &  91.5 & N\\\\\n\t-Alfredo Griffin & 594 & 169 &  4 & 74 & 51 & 35 & 11 & 4408 & 1133 &  19 & 501 & 336 & 194 & A & W & 282 & 421 & 25 & 750.0 & A\\\\\n\\end{tabular}\n",
            "text/plain": [
              "                  AtBat Hits HmRun Runs RBI Walks Years CAtBat CHits CHmRun\n",
              "-Andy Allanson    293    66   1    30   29  14     1     293     66    1   \n",
              "-Alan Ashby       315    81   7    24   38  39    14    3449    835   69   \n",
              "-Alvin Davis      479   130  18    66   72  76     3    1624    457   63   \n",
              "-Andre Dawson     496   141  20    65   78  37    11    5628   1575  225   \n",
              "-Andres Galarraga 321    87  10    39   42  30     2     396    101   12   \n",
              "-Alfredo Griffin  594   169   4    74   51  35    11    4408   1133   19   \n",
              "                  CRuns CRBI CWalks League Division PutOuts Assists Errors\n",
              "-Andy Allanson     30    29   14    A      E        446      33     20    \n",
              "-Alan Ashby       321   414  375    N      W        632      43     10    \n",
              "-Alvin Davis      224   266  263    A      W        880      82     14    \n",
              "-Andre Dawson     828   838  354    N      E        200      11      3    \n",
              "-Andres Galarraga  48    46   33    N      E        805      40      4    \n",
              "-Alfredo Griffin  501   336  194    A      W        282     421     25    \n",
              "                  Salary NewLeague\n",
              "-Andy Allanson       NA  A        \n",
              "-Alan Ashby       475.0  N        \n",
              "-Alvin Davis      480.0  A        \n",
              "-Andre Dawson     500.0  N        \n",
              "-Andres Galarraga  91.5  N        \n",
              "-Alfredo Griffin  750.0  A        "
            ]
          },
          "metadata": {}
        }
      ]
    },
    {
      "cell_type": "code",
      "source": [
        "null_hitters_lm <- lm(Salary ~ 1, data = df_hitters)\n",
        "summary(null_hitters_lm)"
      ],
      "metadata": {
        "id": "wH2hTLO7Z9Li",
        "colab": {
          "base_uri": "https://localhost:8080/",
          "height": 311
        },
        "outputId": "a618e2d6-a780-4fc6-87af-ad76a53aae4a"
      },
      "execution_count": 48,
      "outputs": [
        {
          "output_type": "display_data",
          "data": {
            "text/plain": [
              "\n",
              "Call:\n",
              "lm(formula = Salary ~ 1, data = df_hitters)\n",
              "\n",
              "Residuals:\n",
              "   Min     1Q Median     3Q    Max \n",
              "-468.4 -345.9 -110.9  214.1 1924.1 \n",
              "\n",
              "Coefficients:\n",
              "            Estimate Std. Error t value Pr(>|t|)    \n",
              "(Intercept)   535.93      27.82   19.27   <2e-16 ***\n",
              "---\n",
              "Signif. codes:  0 ‘***’ 0.001 ‘**’ 0.01 ‘*’ 0.05 ‘.’ 0.1 ‘ ’ 1\n",
              "\n",
              "Residual standard error: 451.1 on 262 degrees of freedom\n",
              "  (59 observations deleted due to missingness)\n"
            ]
          },
          "metadata": {}
        }
      ]
    },
    {
      "cell_type": "code",
      "source": [
        "full_hitters_lm <- lm(Salary ~ AtBat + Hits +\tHmRun +\tRuns +\tRBI +\tWalks +\tYears +\tCAtBat +\tCHits +\tCHmRun\t+ CRuns\t+ CRBI + CWalks\t+ League\t+ Division +\tPutOuts\t+ Assists +\tErrors + NewLeague, data = df_hitters)\n",
        "summary(full_hitters_lm)"
      ],
      "metadata": {
        "id": "gdVFQgB5Y3YU",
        "colab": {
          "base_uri": "https://localhost:8080/",
          "height": 752
        },
        "outputId": "bc75c0b1-dc28-454c-b5c6-063b0913a3f9"
      },
      "execution_count": 49,
      "outputs": [
        {
          "output_type": "display_data",
          "data": {
            "text/plain": [
              "\n",
              "Call:\n",
              "lm(formula = Salary ~ AtBat + Hits + HmRun + Runs + RBI + Walks + \n",
              "    Years + CAtBat + CHits + CHmRun + CRuns + CRBI + CWalks + \n",
              "    League + Division + PutOuts + Assists + Errors + NewLeague, \n",
              "    data = df_hitters)\n",
              "\n",
              "Residuals:\n",
              "    Min      1Q  Median      3Q     Max \n",
              "-907.62 -178.35  -31.11  139.09 1877.04 \n",
              "\n",
              "Coefficients:\n",
              "              Estimate Std. Error t value Pr(>|t|)    \n",
              "(Intercept)  163.10359   90.77854   1.797 0.073622 .  \n",
              "AtBat         -1.97987    0.63398  -3.123 0.002008 ** \n",
              "Hits           7.50077    2.37753   3.155 0.001808 ** \n",
              "HmRun          4.33088    6.20145   0.698 0.485616    \n",
              "Runs          -2.37621    2.98076  -0.797 0.426122    \n",
              "RBI           -1.04496    2.60088  -0.402 0.688204    \n",
              "Walks          6.23129    1.82850   3.408 0.000766 ***\n",
              "Years         -3.48905   12.41219  -0.281 0.778874    \n",
              "CAtBat        -0.17134    0.13524  -1.267 0.206380    \n",
              "CHits          0.13399    0.67455   0.199 0.842713    \n",
              "CHmRun        -0.17286    1.61724  -0.107 0.914967    \n",
              "CRuns          1.45430    0.75046   1.938 0.053795 .  \n",
              "CRBI           0.80771    0.69262   1.166 0.244691    \n",
              "CWalks        -0.81157    0.32808  -2.474 0.014057 *  \n",
              "LeagueN       62.59942   79.26140   0.790 0.430424    \n",
              "DivisionW   -116.84925   40.36695  -2.895 0.004141 ** \n",
              "PutOuts        0.28189    0.07744   3.640 0.000333 ***\n",
              "Assists        0.37107    0.22120   1.678 0.094723 .  \n",
              "Errors        -3.36076    4.39163  -0.765 0.444857    \n",
              "NewLeagueN   -24.76233   79.00263  -0.313 0.754218    \n",
              "---\n",
              "Signif. codes:  0 ‘***’ 0.001 ‘**’ 0.01 ‘*’ 0.05 ‘.’ 0.1 ‘ ’ 1\n",
              "\n",
              "Residual standard error: 315.6 on 243 degrees of freedom\n",
              "  (59 observations deleted due to missingness)\n",
              "Multiple R-squared:  0.5461,\tAdjusted R-squared:  0.5106 \n",
              "F-statistic: 15.39 on 19 and 243 DF,  p-value: < 2.2e-16\n"
            ]
          },
          "metadata": {}
        }
      ]
    },
    {
      "cell_type": "code",
      "source": [
        "hitters_step_forward <- step(null_hitters_lm, scope=formula(full_hitters_lm), direction='forward', trace=0)\n",
        "summary(hitters_step_forward)"
      ],
      "metadata": {
        "id": "1sHQYXuGaBqu",
        "colab": {
          "base_uri": "https://localhost:8080/",
          "height": 550
        },
        "outputId": "ab9f5130-a045-4be7-c3d7-e155090467e1"
      },
      "execution_count": 50,
      "outputs": [
        {
          "output_type": "display_data",
          "data": {
            "text/plain": [
              "\n",
              "Call:\n",
              "lm(formula = Salary ~ CRBI + Hits + PutOuts + Division + AtBat + \n",
              "    Walks + CWalks + CRuns + CAtBat + Assists, data = df_hitters)\n",
              "\n",
              "Residuals:\n",
              "    Min      1Q  Median      3Q     Max \n",
              "-939.11 -176.87  -34.08  130.90 1910.55 \n",
              "\n",
              "Coefficients:\n",
              "              Estimate Std. Error t value Pr(>|t|)    \n",
              "(Intercept)  162.53544   66.90784   2.429 0.015830 *  \n",
              "CRBI           0.77431    0.20961   3.694 0.000271 ***\n",
              "Hits           6.91802    1.64665   4.201 3.69e-05 ***\n",
              "PutOuts        0.29737    0.07444   3.995 8.50e-05 ***\n",
              "DivisionW   -112.38006   39.21438  -2.866 0.004511 ** \n",
              "AtBat         -2.16865    0.53630  -4.044 7.00e-05 ***\n",
              "Walks          5.77322    1.58483   3.643 0.000327 ***\n",
              "CWalks        -0.83083    0.26359  -3.152 0.001818 ** \n",
              "CRuns          1.40825    0.39040   3.607 0.000373 ***\n",
              "CAtBat        -0.13008    0.05550  -2.344 0.019858 *  \n",
              "Assists        0.28317    0.15766   1.796 0.073673 .  \n",
              "---\n",
              "Signif. codes:  0 ‘***’ 0.001 ‘**’ 0.01 ‘*’ 0.05 ‘.’ 0.1 ‘ ’ 1\n",
              "\n",
              "Residual standard error: 311.8 on 252 degrees of freedom\n",
              "  (59 observations deleted due to missingness)\n",
              "Multiple R-squared:  0.5405,\tAdjusted R-squared:  0.5223 \n",
              "F-statistic: 29.64 on 10 and 252 DF,  p-value: < 2.2e-16\n"
            ]
          },
          "metadata": {}
        }
      ]
    },
    {
      "cell_type": "code",
      "source": [
        "hitters_step_backward <- step(full_hitters_lm, direction='backward', trace=0)\n",
        "summary(hitters_step_backward)"
      ],
      "metadata": {
        "id": "GxP6urSyaAuN",
        "colab": {
          "base_uri": "https://localhost:8080/",
          "height": 550
        },
        "outputId": "f1f4e1e2-523b-40fa-fc41-2cb5b13291a5"
      },
      "execution_count": 51,
      "outputs": [
        {
          "output_type": "display_data",
          "data": {
            "text/plain": [
              "\n",
              "Call:\n",
              "lm(formula = Salary ~ AtBat + Hits + Walks + CAtBat + CRuns + \n",
              "    CRBI + CWalks + Division + PutOuts + Assists, data = df_hitters)\n",
              "\n",
              "Residuals:\n",
              "    Min      1Q  Median      3Q     Max \n",
              "-939.11 -176.87  -34.08  130.90 1910.55 \n",
              "\n",
              "Coefficients:\n",
              "              Estimate Std. Error t value Pr(>|t|)    \n",
              "(Intercept)  162.53544   66.90784   2.429 0.015830 *  \n",
              "AtBat         -2.16865    0.53630  -4.044 7.00e-05 ***\n",
              "Hits           6.91802    1.64665   4.201 3.69e-05 ***\n",
              "Walks          5.77322    1.58483   3.643 0.000327 ***\n",
              "CAtBat        -0.13008    0.05550  -2.344 0.019858 *  \n",
              "CRuns          1.40825    0.39040   3.607 0.000373 ***\n",
              "CRBI           0.77431    0.20961   3.694 0.000271 ***\n",
              "CWalks        -0.83083    0.26359  -3.152 0.001818 ** \n",
              "DivisionW   -112.38006   39.21438  -2.866 0.004511 ** \n",
              "PutOuts        0.29737    0.07444   3.995 8.50e-05 ***\n",
              "Assists        0.28317    0.15766   1.796 0.073673 .  \n",
              "---\n",
              "Signif. codes:  0 ‘***’ 0.001 ‘**’ 0.01 ‘*’ 0.05 ‘.’ 0.1 ‘ ’ 1\n",
              "\n",
              "Residual standard error: 311.8 on 252 degrees of freedom\n",
              "  (59 observations deleted due to missingness)\n",
              "Multiple R-squared:  0.5405,\tAdjusted R-squared:  0.5223 \n",
              "F-statistic: 29.64 on 10 and 252 DF,  p-value: < 2.2e-16\n"
            ]
          },
          "metadata": {}
        }
      ]
    },
    {
      "cell_type": "code",
      "source": [
        "hitters_step_both <- step(full_hitters_lm, direction = \"both\", trace = 0)\n",
        "summary(hitters_step_both)"
      ],
      "metadata": {
        "id": "K1huyLKYZ_EB",
        "colab": {
          "base_uri": "https://localhost:8080/",
          "height": 550
        },
        "outputId": "8ed0edcd-5f9d-4f37-bc0a-ab5ea8020103"
      },
      "execution_count": 52,
      "outputs": [
        {
          "output_type": "display_data",
          "data": {
            "text/plain": [
              "\n",
              "Call:\n",
              "lm(formula = Salary ~ AtBat + Hits + Walks + CAtBat + CRuns + \n",
              "    CRBI + CWalks + Division + PutOuts + Assists, data = df_hitters)\n",
              "\n",
              "Residuals:\n",
              "    Min      1Q  Median      3Q     Max \n",
              "-939.11 -176.87  -34.08  130.90 1910.55 \n",
              "\n",
              "Coefficients:\n",
              "              Estimate Std. Error t value Pr(>|t|)    \n",
              "(Intercept)  162.53544   66.90784   2.429 0.015830 *  \n",
              "AtBat         -2.16865    0.53630  -4.044 7.00e-05 ***\n",
              "Hits           6.91802    1.64665   4.201 3.69e-05 ***\n",
              "Walks          5.77322    1.58483   3.643 0.000327 ***\n",
              "CAtBat        -0.13008    0.05550  -2.344 0.019858 *  \n",
              "CRuns          1.40825    0.39040   3.607 0.000373 ***\n",
              "CRBI           0.77431    0.20961   3.694 0.000271 ***\n",
              "CWalks        -0.83083    0.26359  -3.152 0.001818 ** \n",
              "DivisionW   -112.38006   39.21438  -2.866 0.004511 ** \n",
              "PutOuts        0.29737    0.07444   3.995 8.50e-05 ***\n",
              "Assists        0.28317    0.15766   1.796 0.073673 .  \n",
              "---\n",
              "Signif. codes:  0 ‘***’ 0.001 ‘**’ 0.01 ‘*’ 0.05 ‘.’ 0.1 ‘ ’ 1\n",
              "\n",
              "Residual standard error: 311.8 on 252 degrees of freedom\n",
              "  (59 observations deleted due to missingness)\n",
              "Multiple R-squared:  0.5405,\tAdjusted R-squared:  0.5223 \n",
              "F-statistic: 29.64 on 10 and 252 DF,  p-value: < 2.2e-16\n"
            ]
          },
          "metadata": {}
        }
      ]
    },
    {
      "cell_type": "markdown",
      "source": [
        "## ISLR::Wage wage"
      ],
      "metadata": {
        "id": "I0VmazIAboNE"
      }
    },
    {
      "cell_type": "code",
      "source": [
        "df_wage <- ISLR::Wage\n",
        "head(df_wage)"
      ],
      "metadata": {
        "colab": {
          "base_uri": "https://localhost:8080/",
          "height": 286
        },
        "id": "sNMBFiccgkFK",
        "outputId": "47640abc-1f7b-4cd8-836f-33eef29e7efa"
      },
      "execution_count": 53,
      "outputs": [
        {
          "output_type": "display_data",
          "data": {
            "text/html": [
              "<table class=\"dataframe\">\n",
              "<caption>A data.frame: 6 × 11</caption>\n",
              "<thead>\n",
              "\t<tr><th></th><th scope=col>year</th><th scope=col>age</th><th scope=col>maritl</th><th scope=col>race</th><th scope=col>education</th><th scope=col>region</th><th scope=col>jobclass</th><th scope=col>health</th><th scope=col>health_ins</th><th scope=col>logwage</th><th scope=col>wage</th></tr>\n",
              "\t<tr><th></th><th scope=col>&lt;int&gt;</th><th scope=col>&lt;int&gt;</th><th scope=col>&lt;fct&gt;</th><th scope=col>&lt;fct&gt;</th><th scope=col>&lt;fct&gt;</th><th scope=col>&lt;fct&gt;</th><th scope=col>&lt;fct&gt;</th><th scope=col>&lt;fct&gt;</th><th scope=col>&lt;fct&gt;</th><th scope=col>&lt;dbl&gt;</th><th scope=col>&lt;dbl&gt;</th></tr>\n",
              "</thead>\n",
              "<tbody>\n",
              "\t<tr><th scope=row>231655</th><td>2006</td><td>18</td><td>1. Never Married</td><td>1. White</td><td><span style=white-space:pre-wrap>1. &lt; HS Grad   </span></td><td>2. Middle Atlantic</td><td>1. Industrial </td><td><span style=white-space:pre-wrap>1. &lt;=Good     </span></td><td>2. No </td><td>4.318063</td><td> 75.04315</td></tr>\n",
              "\t<tr><th scope=row>86582</th><td>2004</td><td>24</td><td>1. Never Married</td><td>1. White</td><td>4. College Grad</td><td>2. Middle Atlantic</td><td>2. Information</td><td>2. &gt;=Very Good</td><td>2. No </td><td>4.255273</td><td> 70.47602</td></tr>\n",
              "\t<tr><th scope=row>161300</th><td>2003</td><td>45</td><td><span style=white-space:pre-wrap>2. Married      </span></td><td>1. White</td><td>3. Some College</td><td>2. Middle Atlantic</td><td>1. Industrial </td><td><span style=white-space:pre-wrap>1. &lt;=Good     </span></td><td>1. Yes</td><td>4.875061</td><td>130.98218</td></tr>\n",
              "\t<tr><th scope=row>155159</th><td>2003</td><td>43</td><td><span style=white-space:pre-wrap>2. Married      </span></td><td>3. Asian</td><td>4. College Grad</td><td>2. Middle Atlantic</td><td>2. Information</td><td>2. &gt;=Very Good</td><td>1. Yes</td><td>5.041393</td><td>154.68529</td></tr>\n",
              "\t<tr><th scope=row>11443</th><td>2005</td><td>50</td><td><span style=white-space:pre-wrap>4. Divorced     </span></td><td>1. White</td><td><span style=white-space:pre-wrap>2. HS Grad     </span></td><td>2. Middle Atlantic</td><td>2. Information</td><td><span style=white-space:pre-wrap>1. &lt;=Good     </span></td><td>1. Yes</td><td>4.318063</td><td> 75.04315</td></tr>\n",
              "\t<tr><th scope=row>376662</th><td>2008</td><td>54</td><td><span style=white-space:pre-wrap>2. Married      </span></td><td>1. White</td><td>4. College Grad</td><td>2. Middle Atlantic</td><td>2. Information</td><td>2. &gt;=Very Good</td><td>1. Yes</td><td>4.845098</td><td>127.11574</td></tr>\n",
              "</tbody>\n",
              "</table>\n"
            ],
            "text/markdown": "\nA data.frame: 6 × 11\n\n| <!--/--> | year &lt;int&gt; | age &lt;int&gt; | maritl &lt;fct&gt; | race &lt;fct&gt; | education &lt;fct&gt; | region &lt;fct&gt; | jobclass &lt;fct&gt; | health &lt;fct&gt; | health_ins &lt;fct&gt; | logwage &lt;dbl&gt; | wage &lt;dbl&gt; |\n|---|---|---|---|---|---|---|---|---|---|---|---|\n| 231655 | 2006 | 18 | 1. Never Married | 1. White | 1. &lt; HS Grad    | 2. Middle Atlantic | 1. Industrial  | 1. &lt;=Good      | 2. No  | 4.318063 |  75.04315 |\n| 86582 | 2004 | 24 | 1. Never Married | 1. White | 4. College Grad | 2. Middle Atlantic | 2. Information | 2. &gt;=Very Good | 2. No  | 4.255273 |  70.47602 |\n| 161300 | 2003 | 45 | 2. Married       | 1. White | 3. Some College | 2. Middle Atlantic | 1. Industrial  | 1. &lt;=Good      | 1. Yes | 4.875061 | 130.98218 |\n| 155159 | 2003 | 43 | 2. Married       | 3. Asian | 4. College Grad | 2. Middle Atlantic | 2. Information | 2. &gt;=Very Good | 1. Yes | 5.041393 | 154.68529 |\n| 11443 | 2005 | 50 | 4. Divorced      | 1. White | 2. HS Grad      | 2. Middle Atlantic | 2. Information | 1. &lt;=Good      | 1. Yes | 4.318063 |  75.04315 |\n| 376662 | 2008 | 54 | 2. Married       | 1. White | 4. College Grad | 2. Middle Atlantic | 2. Information | 2. &gt;=Very Good | 1. Yes | 4.845098 | 127.11574 |\n\n",
            "text/latex": "A data.frame: 6 × 11\n\\begin{tabular}{r|lllllllllll}\n  & year & age & maritl & race & education & region & jobclass & health & health\\_ins & logwage & wage\\\\\n  & <int> & <int> & <fct> & <fct> & <fct> & <fct> & <fct> & <fct> & <fct> & <dbl> & <dbl>\\\\\n\\hline\n\t231655 & 2006 & 18 & 1. Never Married & 1. White & 1. < HS Grad    & 2. Middle Atlantic & 1. Industrial  & 1. <=Good      & 2. No  & 4.318063 &  75.04315\\\\\n\t86582 & 2004 & 24 & 1. Never Married & 1. White & 4. College Grad & 2. Middle Atlantic & 2. Information & 2. >=Very Good & 2. No  & 4.255273 &  70.47602\\\\\n\t161300 & 2003 & 45 & 2. Married       & 1. White & 3. Some College & 2. Middle Atlantic & 1. Industrial  & 1. <=Good      & 1. Yes & 4.875061 & 130.98218\\\\\n\t155159 & 2003 & 43 & 2. Married       & 3. Asian & 4. College Grad & 2. Middle Atlantic & 2. Information & 2. >=Very Good & 1. Yes & 5.041393 & 154.68529\\\\\n\t11443 & 2005 & 50 & 4. Divorced      & 1. White & 2. HS Grad      & 2. Middle Atlantic & 2. Information & 1. <=Good      & 1. Yes & 4.318063 &  75.04315\\\\\n\t376662 & 2008 & 54 & 2. Married       & 1. White & 4. College Grad & 2. Middle Atlantic & 2. Information & 2. >=Very Good & 1. Yes & 4.845098 & 127.11574\\\\\n\\end{tabular}\n",
            "text/plain": [
              "       year age maritl           race     education       region            \n",
              "231655 2006 18  1. Never Married 1. White 1. < HS Grad    2. Middle Atlantic\n",
              "86582  2004 24  1. Never Married 1. White 4. College Grad 2. Middle Atlantic\n",
              "161300 2003 45  2. Married       1. White 3. Some College 2. Middle Atlantic\n",
              "155159 2003 43  2. Married       3. Asian 4. College Grad 2. Middle Atlantic\n",
              "11443  2005 50  4. Divorced      1. White 2. HS Grad      2. Middle Atlantic\n",
              "376662 2008 54  2. Married       1. White 4. College Grad 2. Middle Atlantic\n",
              "       jobclass       health         health_ins logwage  wage     \n",
              "231655 1. Industrial  1. <=Good      2. No      4.318063  75.04315\n",
              "86582  2. Information 2. >=Very Good 2. No      4.255273  70.47602\n",
              "161300 1. Industrial  1. <=Good      1. Yes     4.875061 130.98218\n",
              "155159 2. Information 2. >=Very Good 1. Yes     5.041393 154.68529\n",
              "11443  2. Information 1. <=Good      1. Yes     4.318063  75.04315\n",
              "376662 2. Information 2. >=Very Good 1. Yes     4.845098 127.11574"
            ]
          },
          "metadata": {}
        }
      ]
    },
    {
      "cell_type": "code",
      "source": [
        "null_wage_lm <- lm(wage ~ 1, data = df_wage)\n",
        "summary(null_wage_lm)"
      ],
      "metadata": {
        "colab": {
          "base_uri": "https://localhost:8080/",
          "height": 293
        },
        "id": "P4Ozze0egkFM",
        "outputId": "195311e6-0fbd-47be-c652-8a3afd4660f8"
      },
      "execution_count": 54,
      "outputs": [
        {
          "output_type": "display_data",
          "data": {
            "text/plain": [
              "\n",
              "Call:\n",
              "lm(formula = wage ~ 1, data = df_wage)\n",
              "\n",
              "Residuals:\n",
              "    Min      1Q  Median      3Q     Max \n",
              "-91.618 -26.320  -6.782  16.977 206.639 \n",
              "\n",
              "Coefficients:\n",
              "            Estimate Std. Error t value Pr(>|t|)    \n",
              "(Intercept) 111.7036     0.7619   146.6   <2e-16 ***\n",
              "---\n",
              "Signif. codes:  0 ‘***’ 0.001 ‘**’ 0.01 ‘*’ 0.05 ‘.’ 0.1 ‘ ’ 1\n",
              "\n",
              "Residual standard error: 41.73 on 2999 degrees of freedom\n"
            ]
          },
          "metadata": {}
        }
      ]
    },
    {
      "cell_type": "code",
      "source": [
        "full_wage_lm <- lm(wage ~ year + age + maritl +\trace + education + jobclass + health + health_ins +\tlogwage, data = df_wage)\n",
        "summary(full_wage_lm)"
      ],
      "metadata": {
        "colab": {
          "base_uri": "https://localhost:8080/",
          "height": 660
        },
        "id": "ALNtj3nsgkFP",
        "outputId": "52f3e52c-d99a-4b0e-fb80-25d9c74abb53"
      },
      "execution_count": 55,
      "outputs": [
        {
          "output_type": "display_data",
          "data": {
            "text/plain": [
              "\n",
              "Call:\n",
              "lm(formula = wage ~ year + age + maritl + race + education + \n",
              "    jobclass + health + health_ins + logwage, data = df_wage)\n",
              "\n",
              "Residuals:\n",
              "    Min      1Q  Median      3Q     Max \n",
              "-16.721  -5.359  -3.058   0.712  94.152 \n",
              "\n",
              "Coefficients:\n",
              "                             Estimate Std. Error t value Pr(>|t|)    \n",
              "(Intercept)                 -42.18179  229.31872  -0.184   0.8541    \n",
              "year                         -0.18561    0.11449  -1.621   0.1051    \n",
              "age                          -0.01716    0.02317  -0.740   0.4592    \n",
              "maritl2. Married             -1.46198    0.65235  -2.241   0.0251 *  \n",
              "maritl3. Widowed             -3.49564    2.96917  -1.177   0.2392    \n",
              "maritl4. Divorced            -1.27917    1.07126  -1.194   0.2325    \n",
              "maritl5. Separated           -2.50237    1.79938  -1.391   0.1644    \n",
              "race2. Black                 -0.53547    0.79644  -0.672   0.5014    \n",
              "race3. Asian                 -0.41331    0.96561  -0.428   0.6687    \n",
              "race4. Other                  0.68373    2.10209   0.325   0.7450    \n",
              "education2. HS Grad          -1.53915    0.88136  -1.746   0.0809 .  \n",
              "education3. Some College     -2.38319    0.94682  -2.517   0.0119 *  \n",
              "education4. College Grad     -0.77893    0.97362  -0.800   0.4238    \n",
              "education5. Advanced Degree   4.86794    1.10266   4.415 1.05e-05 ***\n",
              "jobclass2. Information        0.64614    0.49152   1.315   0.1887    \n",
              "health2. >=Very Good         -0.18688    0.52922  -0.353   0.7240    \n",
              "health_ins2. No               4.41498    0.54460   8.107 7.51e-16 ***\n",
              "logwage                     113.26508    0.82815 136.769  < 2e-16 ***\n",
              "---\n",
              "Signif. codes:  0 ‘***’ 0.001 ‘**’ 0.01 ‘*’ 0.05 ‘.’ 0.1 ‘ ’ 1\n",
              "\n",
              "Residual standard error: 12.61 on 2982 degrees of freedom\n",
              "Multiple R-squared:  0.9092,\tAdjusted R-squared:  0.9087 \n",
              "F-statistic:  1756 on 17 and 2982 DF,  p-value: < 2.2e-16\n"
            ]
          },
          "metadata": {}
        }
      ]
    },
    {
      "cell_type": "code",
      "source": [
        "wage_step_forward <- step(null_wage_lm, scope=formula(full_wage_lm), direction='forward', trace=0)\n",
        "summary(wage_step_forward)"
      ],
      "metadata": {
        "colab": {
          "base_uri": "https://localhost:8080/",
          "height": 495
        },
        "id": "EHzi9jQTgkFR",
        "outputId": "fb4da4ea-953b-43e6-c500-0cefd2e0cd32"
      },
      "execution_count": 56,
      "outputs": [
        {
          "output_type": "display_data",
          "data": {
            "text/plain": [
              "\n",
              "Call:\n",
              "lm(formula = wage ~ logwage + education + health_ins + age + \n",
              "    year, data = df_wage)\n",
              "\n",
              "Residuals:\n",
              "    Min      1Q  Median      3Q     Max \n",
              "-16.396  -5.268  -3.153   0.544  93.885 \n",
              "\n",
              "Coefficients:\n",
              "                             Estimate Std. Error t value Pr(>|t|)    \n",
              "(Intercept)                 -61.52771  228.67273  -0.269   0.7879    \n",
              "logwage                     112.91513    0.79967 141.202  < 2e-16 ***\n",
              "education2. HS Grad          -1.45590    0.87702  -1.660   0.0970 .  \n",
              "education3. Some College     -2.18528    0.93788  -2.330   0.0199 *  \n",
              "education4. College Grad     -0.49595    0.95411  -0.520   0.6032    \n",
              "education5. Advanced Degree   5.24707    1.06970   4.905 9.83e-07 ***\n",
              "health_ins2. No               4.32533    0.54188   7.982 2.03e-15 ***\n",
              "age                          -0.03702    0.02057  -1.800   0.0720 .  \n",
              "year                         -0.17534    0.11415  -1.536   0.1246    \n",
              "---\n",
              "Signif. codes:  0 ‘***’ 0.001 ‘**’ 0.01 ‘*’ 0.05 ‘.’ 0.1 ‘ ’ 1\n",
              "\n",
              "Residual standard error: 12.61 on 2991 degrees of freedom\n",
              "Multiple R-squared:  0.9089,\tAdjusted R-squared:  0.9087 \n",
              "F-statistic:  3732 on 8 and 2991 DF,  p-value: < 2.2e-16\n"
            ]
          },
          "metadata": {}
        }
      ]
    },
    {
      "cell_type": "code",
      "source": [
        "wage_step_backward <- step(full_wage_lm, direction='backward', trace=0)\n",
        "summary(wage_step_backward)"
      ],
      "metadata": {
        "colab": {
          "base_uri": "https://localhost:8080/",
          "height": 495
        },
        "id": "9SQNgeaIgkFS",
        "outputId": "ba7460d3-2d0e-45a2-c035-a20d5ef07a3d"
      },
      "execution_count": 57,
      "outputs": [
        {
          "output_type": "display_data",
          "data": {
            "text/plain": [
              "\n",
              "Call:\n",
              "lm(formula = wage ~ year + age + education + health_ins + logwage, \n",
              "    data = df_wage)\n",
              "\n",
              "Residuals:\n",
              "    Min      1Q  Median      3Q     Max \n",
              "-16.396  -5.268  -3.153   0.544  93.885 \n",
              "\n",
              "Coefficients:\n",
              "                             Estimate Std. Error t value Pr(>|t|)    \n",
              "(Intercept)                 -61.52771  228.67273  -0.269   0.7879    \n",
              "year                         -0.17534    0.11415  -1.536   0.1246    \n",
              "age                          -0.03702    0.02057  -1.800   0.0720 .  \n",
              "education2. HS Grad          -1.45590    0.87702  -1.660   0.0970 .  \n",
              "education3. Some College     -2.18528    0.93788  -2.330   0.0199 *  \n",
              "education4. College Grad     -0.49595    0.95411  -0.520   0.6032    \n",
              "education5. Advanced Degree   5.24707    1.06970   4.905 9.83e-07 ***\n",
              "health_ins2. No               4.32533    0.54188   7.982 2.03e-15 ***\n",
              "logwage                     112.91513    0.79967 141.202  < 2e-16 ***\n",
              "---\n",
              "Signif. codes:  0 ‘***’ 0.001 ‘**’ 0.01 ‘*’ 0.05 ‘.’ 0.1 ‘ ’ 1\n",
              "\n",
              "Residual standard error: 12.61 on 2991 degrees of freedom\n",
              "Multiple R-squared:  0.9089,\tAdjusted R-squared:  0.9087 \n",
              "F-statistic:  3732 on 8 and 2991 DF,  p-value: < 2.2e-16\n"
            ]
          },
          "metadata": {}
        }
      ]
    },
    {
      "cell_type": "code",
      "source": [
        "wage_step_both <- step(full_wage_lm, direction = \"both\", trace = 0)\n",
        "summary(wage_step_both)"
      ],
      "metadata": {
        "colab": {
          "base_uri": "https://localhost:8080/",
          "height": 495
        },
        "id": "xnGx_WnhgkFU",
        "outputId": "3c9d0b8f-bea0-4996-a326-139f73027b7f"
      },
      "execution_count": 58,
      "outputs": [
        {
          "output_type": "display_data",
          "data": {
            "text/plain": [
              "\n",
              "Call:\n",
              "lm(formula = wage ~ year + age + education + health_ins + logwage, \n",
              "    data = df_wage)\n",
              "\n",
              "Residuals:\n",
              "    Min      1Q  Median      3Q     Max \n",
              "-16.396  -5.268  -3.153   0.544  93.885 \n",
              "\n",
              "Coefficients:\n",
              "                             Estimate Std. Error t value Pr(>|t|)    \n",
              "(Intercept)                 -61.52771  228.67273  -0.269   0.7879    \n",
              "year                         -0.17534    0.11415  -1.536   0.1246    \n",
              "age                          -0.03702    0.02057  -1.800   0.0720 .  \n",
              "education2. HS Grad          -1.45590    0.87702  -1.660   0.0970 .  \n",
              "education3. Some College     -2.18528    0.93788  -2.330   0.0199 *  \n",
              "education4. College Grad     -0.49595    0.95411  -0.520   0.6032    \n",
              "education5. Advanced Degree   5.24707    1.06970   4.905 9.83e-07 ***\n",
              "health_ins2. No               4.32533    0.54188   7.982 2.03e-15 ***\n",
              "logwage                     112.91513    0.79967 141.202  < 2e-16 ***\n",
              "---\n",
              "Signif. codes:  0 ‘***’ 0.001 ‘**’ 0.01 ‘*’ 0.05 ‘.’ 0.1 ‘ ’ 1\n",
              "\n",
              "Residual standard error: 12.61 on 2991 degrees of freedom\n",
              "Multiple R-squared:  0.9089,\tAdjusted R-squared:  0.9087 \n",
              "F-statistic:  3732 on 8 and 2991 DF,  p-value: < 2.2e-16\n"
            ]
          },
          "metadata": {}
        }
      ]
    },
    {
      "cell_type": "markdown",
      "source": [
        "## ISLR::College outstate"
      ],
      "metadata": {
        "id": "X6bHKBe3bhSD"
      }
    },
    {
      "cell_type": "code",
      "source": [
        "df_college <- ISLR::College\n",
        "head(df_college)"
      ],
      "metadata": {
        "colab": {
          "base_uri": "https://localhost:8080/",
          "height": 286
        },
        "id": "2GfGVvWzjr4i",
        "outputId": "be667b2b-5f51-4df4-d0ef-7d34e8accaa5"
      },
      "execution_count": 59,
      "outputs": [
        {
          "output_type": "display_data",
          "data": {
            "text/html": [
              "<table class=\"dataframe\">\n",
              "<caption>A data.frame: 6 × 18</caption>\n",
              "<thead>\n",
              "\t<tr><th></th><th scope=col>Private</th><th scope=col>Apps</th><th scope=col>Accept</th><th scope=col>Enroll</th><th scope=col>Top10perc</th><th scope=col>Top25perc</th><th scope=col>F.Undergrad</th><th scope=col>P.Undergrad</th><th scope=col>Outstate</th><th scope=col>Room.Board</th><th scope=col>Books</th><th scope=col>Personal</th><th scope=col>PhD</th><th scope=col>Terminal</th><th scope=col>S.F.Ratio</th><th scope=col>perc.alumni</th><th scope=col>Expend</th><th scope=col>Grad.Rate</th></tr>\n",
              "\t<tr><th></th><th scope=col>&lt;fct&gt;</th><th scope=col>&lt;dbl&gt;</th><th scope=col>&lt;dbl&gt;</th><th scope=col>&lt;dbl&gt;</th><th scope=col>&lt;dbl&gt;</th><th scope=col>&lt;dbl&gt;</th><th scope=col>&lt;dbl&gt;</th><th scope=col>&lt;dbl&gt;</th><th scope=col>&lt;dbl&gt;</th><th scope=col>&lt;dbl&gt;</th><th scope=col>&lt;dbl&gt;</th><th scope=col>&lt;dbl&gt;</th><th scope=col>&lt;dbl&gt;</th><th scope=col>&lt;dbl&gt;</th><th scope=col>&lt;dbl&gt;</th><th scope=col>&lt;dbl&gt;</th><th scope=col>&lt;dbl&gt;</th><th scope=col>&lt;dbl&gt;</th></tr>\n",
              "</thead>\n",
              "<tbody>\n",
              "\t<tr><th scope=row>Abilene Christian University</th><td>Yes</td><td>1660</td><td>1232</td><td>721</td><td>23</td><td>52</td><td>2885</td><td> 537</td><td> 7440</td><td>3300</td><td>450</td><td>2200</td><td>70</td><td>78</td><td>18.1</td><td>12</td><td> 7041</td><td>60</td></tr>\n",
              "\t<tr><th scope=row>Adelphi University</th><td>Yes</td><td>2186</td><td>1924</td><td>512</td><td>16</td><td>29</td><td>2683</td><td>1227</td><td>12280</td><td>6450</td><td>750</td><td>1500</td><td>29</td><td>30</td><td>12.2</td><td>16</td><td>10527</td><td>56</td></tr>\n",
              "\t<tr><th scope=row>Adrian College</th><td>Yes</td><td>1428</td><td>1097</td><td>336</td><td>22</td><td>50</td><td>1036</td><td>  99</td><td>11250</td><td>3750</td><td>400</td><td>1165</td><td>53</td><td>66</td><td>12.9</td><td>30</td><td> 8735</td><td>54</td></tr>\n",
              "\t<tr><th scope=row>Agnes Scott College</th><td>Yes</td><td> 417</td><td> 349</td><td>137</td><td>60</td><td>89</td><td> 510</td><td>  63</td><td>12960</td><td>5450</td><td>450</td><td> 875</td><td>92</td><td>97</td><td> 7.7</td><td>37</td><td>19016</td><td>59</td></tr>\n",
              "\t<tr><th scope=row>Alaska Pacific University</th><td>Yes</td><td> 193</td><td> 146</td><td> 55</td><td>16</td><td>44</td><td> 249</td><td> 869</td><td> 7560</td><td>4120</td><td>800</td><td>1500</td><td>76</td><td>72</td><td>11.9</td><td> 2</td><td>10922</td><td>15</td></tr>\n",
              "\t<tr><th scope=row>Albertson College</th><td>Yes</td><td> 587</td><td> 479</td><td>158</td><td>38</td><td>62</td><td> 678</td><td>  41</td><td>13500</td><td>3335</td><td>500</td><td> 675</td><td>67</td><td>73</td><td> 9.4</td><td>11</td><td> 9727</td><td>55</td></tr>\n",
              "</tbody>\n",
              "</table>\n"
            ],
            "text/markdown": "\nA data.frame: 6 × 18\n\n| <!--/--> | Private &lt;fct&gt; | Apps &lt;dbl&gt; | Accept &lt;dbl&gt; | Enroll &lt;dbl&gt; | Top10perc &lt;dbl&gt; | Top25perc &lt;dbl&gt; | F.Undergrad &lt;dbl&gt; | P.Undergrad &lt;dbl&gt; | Outstate &lt;dbl&gt; | Room.Board &lt;dbl&gt; | Books &lt;dbl&gt; | Personal &lt;dbl&gt; | PhD &lt;dbl&gt; | Terminal &lt;dbl&gt; | S.F.Ratio &lt;dbl&gt; | perc.alumni &lt;dbl&gt; | Expend &lt;dbl&gt; | Grad.Rate &lt;dbl&gt; |\n|---|---|---|---|---|---|---|---|---|---|---|---|---|---|---|---|---|---|---|\n| Abilene Christian University | Yes | 1660 | 1232 | 721 | 23 | 52 | 2885 |  537 |  7440 | 3300 | 450 | 2200 | 70 | 78 | 18.1 | 12 |  7041 | 60 |\n| Adelphi University | Yes | 2186 | 1924 | 512 | 16 | 29 | 2683 | 1227 | 12280 | 6450 | 750 | 1500 | 29 | 30 | 12.2 | 16 | 10527 | 56 |\n| Adrian College | Yes | 1428 | 1097 | 336 | 22 | 50 | 1036 |   99 | 11250 | 3750 | 400 | 1165 | 53 | 66 | 12.9 | 30 |  8735 | 54 |\n| Agnes Scott College | Yes |  417 |  349 | 137 | 60 | 89 |  510 |   63 | 12960 | 5450 | 450 |  875 | 92 | 97 |  7.7 | 37 | 19016 | 59 |\n| Alaska Pacific University | Yes |  193 |  146 |  55 | 16 | 44 |  249 |  869 |  7560 | 4120 | 800 | 1500 | 76 | 72 | 11.9 |  2 | 10922 | 15 |\n| Albertson College | Yes |  587 |  479 | 158 | 38 | 62 |  678 |   41 | 13500 | 3335 | 500 |  675 | 67 | 73 |  9.4 | 11 |  9727 | 55 |\n\n",
            "text/latex": "A data.frame: 6 × 18\n\\begin{tabular}{r|llllllllllllllllll}\n  & Private & Apps & Accept & Enroll & Top10perc & Top25perc & F.Undergrad & P.Undergrad & Outstate & Room.Board & Books & Personal & PhD & Terminal & S.F.Ratio & perc.alumni & Expend & Grad.Rate\\\\\n  & <fct> & <dbl> & <dbl> & <dbl> & <dbl> & <dbl> & <dbl> & <dbl> & <dbl> & <dbl> & <dbl> & <dbl> & <dbl> & <dbl> & <dbl> & <dbl> & <dbl> & <dbl>\\\\\n\\hline\n\tAbilene Christian University & Yes & 1660 & 1232 & 721 & 23 & 52 & 2885 &  537 &  7440 & 3300 & 450 & 2200 & 70 & 78 & 18.1 & 12 &  7041 & 60\\\\\n\tAdelphi University & Yes & 2186 & 1924 & 512 & 16 & 29 & 2683 & 1227 & 12280 & 6450 & 750 & 1500 & 29 & 30 & 12.2 & 16 & 10527 & 56\\\\\n\tAdrian College & Yes & 1428 & 1097 & 336 & 22 & 50 & 1036 &   99 & 11250 & 3750 & 400 & 1165 & 53 & 66 & 12.9 & 30 &  8735 & 54\\\\\n\tAgnes Scott College & Yes &  417 &  349 & 137 & 60 & 89 &  510 &   63 & 12960 & 5450 & 450 &  875 & 92 & 97 &  7.7 & 37 & 19016 & 59\\\\\n\tAlaska Pacific University & Yes &  193 &  146 &  55 & 16 & 44 &  249 &  869 &  7560 & 4120 & 800 & 1500 & 76 & 72 & 11.9 &  2 & 10922 & 15\\\\\n\tAlbertson College & Yes &  587 &  479 & 158 & 38 & 62 &  678 &   41 & 13500 & 3335 & 500 &  675 & 67 & 73 &  9.4 & 11 &  9727 & 55\\\\\n\\end{tabular}\n",
            "text/plain": [
              "                             Private Apps Accept Enroll Top10perc Top25perc\n",
              "Abilene Christian University Yes     1660 1232   721    23        52       \n",
              "Adelphi University           Yes     2186 1924   512    16        29       \n",
              "Adrian College               Yes     1428 1097   336    22        50       \n",
              "Agnes Scott College          Yes      417  349   137    60        89       \n",
              "Alaska Pacific University    Yes      193  146    55    16        44       \n",
              "Albertson College            Yes      587  479   158    38        62       \n",
              "                             F.Undergrad P.Undergrad Outstate Room.Board Books\n",
              "Abilene Christian University 2885         537         7440    3300       450  \n",
              "Adelphi University           2683        1227        12280    6450       750  \n",
              "Adrian College               1036          99        11250    3750       400  \n",
              "Agnes Scott College           510          63        12960    5450       450  \n",
              "Alaska Pacific University     249         869         7560    4120       800  \n",
              "Albertson College             678          41        13500    3335       500  \n",
              "                             Personal PhD Terminal S.F.Ratio perc.alumni Expend\n",
              "Abilene Christian University 2200     70  78       18.1      12           7041 \n",
              "Adelphi University           1500     29  30       12.2      16          10527 \n",
              "Adrian College               1165     53  66       12.9      30           8735 \n",
              "Agnes Scott College           875     92  97        7.7      37          19016 \n",
              "Alaska Pacific University    1500     76  72       11.9       2          10922 \n",
              "Albertson College             675     67  73        9.4      11           9727 \n",
              "                             Grad.Rate\n",
              "Abilene Christian University 60       \n",
              "Adelphi University           56       \n",
              "Adrian College               54       \n",
              "Agnes Scott College          59       \n",
              "Alaska Pacific University    15       \n",
              "Albertson College            55       "
            ]
          },
          "metadata": {}
        }
      ]
    },
    {
      "cell_type": "code",
      "source": [
        "null_college_lm <- lm(Outstate ~ 1, data = df_college)\n",
        "summary(null_college_lm)"
      ],
      "metadata": {
        "colab": {
          "base_uri": "https://localhost:8080/",
          "height": 293
        },
        "id": "q_AXYSiqjr4m",
        "outputId": "7c82bf67-75aa-4c33-cb93-d7c20c1e7a6b"
      },
      "execution_count": 60,
      "outputs": [
        {
          "output_type": "display_data",
          "data": {
            "text/plain": [
              "\n",
              "Call:\n",
              "lm(formula = Outstate ~ 1, data = df_college)\n",
              "\n",
              "Residuals:\n",
              "    Min      1Q  Median      3Q     Max \n",
              "-8100.7 -3120.7  -450.7  2484.3 11259.3 \n",
              "\n",
              "Coefficients:\n",
              "            Estimate Std. Error t value Pr(>|t|)    \n",
              "(Intercept)  10440.7      144.3   72.34   <2e-16 ***\n",
              "---\n",
              "Signif. codes:  0 ‘***’ 0.001 ‘**’ 0.01 ‘*’ 0.05 ‘.’ 0.1 ‘ ’ 1\n",
              "\n",
              "Residual standard error: 4023 on 776 degrees of freedom\n"
            ]
          },
          "metadata": {}
        }
      ]
    },
    {
      "cell_type": "code",
      "metadata": {
        "colab": {
          "base_uri": "https://localhost:8080/",
          "height": 697
        },
        "id": "fd452590",
        "outputId": "0d796639-4d84-4e94-cb81-54659e2fc2f8"
      },
      "source": [
        "full_college_lm <- lm(Outstate ~ Private + Apps + Accept + Enroll + Top10perc + Top25perc + F.Undergrad + P.Undergrad + Room.Board + Books + Personal + PhD + Terminal + S.F.Ratio + perc.alumni + Expend + Grad.Rate, data = df_college)\n",
        "summary(full_college_lm)"
      ],
      "execution_count": 61,
      "outputs": [
        {
          "output_type": "display_data",
          "data": {
            "text/plain": [
              "\n",
              "Call:\n",
              "lm(formula = Outstate ~ Private + Apps + Accept + Enroll + Top10perc + \n",
              "    Top25perc + F.Undergrad + P.Undergrad + Room.Board + Books + \n",
              "    Personal + PhD + Terminal + S.F.Ratio + perc.alumni + Expend + \n",
              "    Grad.Rate, data = df_college)\n",
              "\n",
              "Residuals:\n",
              "    Min      1Q  Median      3Q     Max \n",
              "-6782.6 -1267.5   -40.9  1244.5  9953.3 \n",
              "\n",
              "Coefficients:\n",
              "              Estimate Std. Error t value Pr(>|t|)    \n",
              "(Intercept) -1.587e+03  7.660e+02  -2.072  0.03860 *  \n",
              "PrivateYes   2.264e+03  2.480e+02   9.128  < 2e-16 ***\n",
              "Apps        -3.034e-01  6.734e-02  -4.506 7.64e-06 ***\n",
              "Accept       8.124e-01  1.293e-01   6.286 5.51e-10 ***\n",
              "Enroll      -5.492e-01  3.541e-01  -1.551  0.12134    \n",
              "Top10perc    2.834e+01  1.098e+01   2.582  0.01002 *  \n",
              "Top25perc   -3.779e+00  8.475e+00  -0.446  0.65576    \n",
              "F.Undergrad -9.567e-02  6.152e-02  -1.555  0.12038    \n",
              "P.Undergrad  1.166e-02  6.049e-02   0.193  0.84720    \n",
              "Room.Board   8.816e-01  8.558e-02  10.302  < 2e-16 ***\n",
              "Books       -4.592e-01  4.479e-01  -1.025  0.30551    \n",
              "Personal    -2.294e-01  1.183e-01  -1.940  0.05280 .  \n",
              "PhD          1.124e+01  8.730e+00   1.288  0.19822    \n",
              "Terminal     2.467e+01  9.538e+00   2.587  0.00988 ** \n",
              "S.F.Ratio   -4.644e+01  2.441e+01  -1.902  0.05753 .  \n",
              "perc.alumni  4.180e+01  7.561e+00   5.528 4.45e-08 ***\n",
              "Expend       1.990e-01  2.269e-02   8.769  < 2e-16 ***\n",
              "Grad.Rate    2.400e+01  5.506e+00   4.359 1.49e-05 ***\n",
              "---\n",
              "Signif. codes:  0 ‘***’ 0.001 ‘**’ 0.01 ‘*’ 0.05 ‘.’ 0.1 ‘ ’ 1\n",
              "\n",
              "Residual standard error: 1958 on 759 degrees of freedom\n",
              "Multiple R-squared:  0.7684,\tAdjusted R-squared:  0.7632 \n",
              "F-statistic: 148.1 on 17 and 759 DF,  p-value: < 2.2e-16\n"
            ]
          },
          "metadata": {}
        }
      ]
    },
    {
      "cell_type": "code",
      "metadata": {
        "colab": {
          "base_uri": "https://localhost:8080/",
          "height": 623
        },
        "id": "3d7afe9b",
        "outputId": "b77a4529-11dd-47b7-e0ed-51d4f50c86f3"
      },
      "source": [
        "college_step_forward <- step(null_college_lm, scope=formula(full_college_lm), direction='forward', trace=0)\n",
        "summary(college_step_forward)"
      ],
      "execution_count": 62,
      "outputs": [
        {
          "output_type": "display_data",
          "data": {
            "text/plain": [
              "\n",
              "Call:\n",
              "lm(formula = Outstate ~ Expend + Private + Room.Board + perc.alumni + \n",
              "    PhD + Grad.Rate + Personal + Terminal + S.F.Ratio + Accept + \n",
              "    F.Undergrad + Apps + Top10perc + Enroll, data = df_college)\n",
              "\n",
              "Residuals:\n",
              "    Min      1Q  Median      3Q     Max \n",
              "-6740.7 -1271.7   -40.8  1246.6  9907.5 \n",
              "\n",
              "Coefficients:\n",
              "              Estimate Std. Error t value Pr(>|t|)    \n",
              "(Intercept) -1.817e+03  7.346e+02  -2.474  0.01360 *  \n",
              "Expend       2.004e-01  2.226e-02   9.000  < 2e-16 ***\n",
              "PrivateYes   2.257e+03  2.474e+02   9.122  < 2e-16 ***\n",
              "Room.Board   8.742e-01  8.446e-02  10.350  < 2e-16 ***\n",
              "perc.alumni  4.195e+01  7.526e+00   5.574 3.45e-08 ***\n",
              "PhD          1.270e+01  8.609e+00   1.475  0.14071    \n",
              "Grad.Rate    2.383e+01  5.425e+00   4.393 1.28e-05 ***\n",
              "Personal    -2.478e-01  1.157e-01  -2.143  0.03244 *  \n",
              "Terminal     2.297e+01  9.387e+00   2.447  0.01462 *  \n",
              "S.F.Ratio   -4.701e+01  2.438e+01  -1.928  0.05420 .  \n",
              "Accept       8.024e-01  1.274e-01   6.298 5.10e-10 ***\n",
              "F.Undergrad -9.570e-02  5.930e-02  -1.614  0.10701    \n",
              "Apps        -2.999e-01  6.675e-02  -4.493 8.11e-06 ***\n",
              "Top10perc    2.366e+01  6.601e+00   3.584  0.00036 ***\n",
              "Enroll      -5.373e-01  3.513e-01  -1.530  0.12654    \n",
              "---\n",
              "Signif. codes:  0 ‘***’ 0.001 ‘**’ 0.01 ‘*’ 0.05 ‘.’ 0.1 ‘ ’ 1\n",
              "\n",
              "Residual standard error: 1955 on 762 degrees of freedom\n",
              "Multiple R-squared:  0.768,\tAdjusted R-squared:  0.7638 \n",
              "F-statistic: 180.2 on 14 and 762 DF,  p-value: < 2.2e-16\n"
            ]
          },
          "metadata": {}
        }
      ]
    },
    {
      "cell_type": "code",
      "metadata": {
        "colab": {
          "base_uri": "https://localhost:8080/",
          "height": 623
        },
        "id": "1c4792ea",
        "outputId": "5746441d-d243-4661-a132-138b7a84c913"
      },
      "source": [
        "college_step_backward <- step(full_college_lm, direction='backward', trace=0)\n",
        "summary(college_step_backward)"
      ],
      "execution_count": 63,
      "outputs": [
        {
          "output_type": "display_data",
          "data": {
            "text/plain": [
              "\n",
              "Call:\n",
              "lm(formula = Outstate ~ Private + Apps + Accept + Enroll + Top10perc + \n",
              "    F.Undergrad + Room.Board + Personal + PhD + Terminal + S.F.Ratio + \n",
              "    perc.alumni + Expend + Grad.Rate, data = df_college)\n",
              "\n",
              "Residuals:\n",
              "    Min      1Q  Median      3Q     Max \n",
              "-6740.7 -1271.7   -40.8  1246.6  9907.5 \n",
              "\n",
              "Coefficients:\n",
              "              Estimate Std. Error t value Pr(>|t|)    \n",
              "(Intercept) -1.817e+03  7.346e+02  -2.474  0.01360 *  \n",
              "PrivateYes   2.257e+03  2.474e+02   9.122  < 2e-16 ***\n",
              "Apps        -2.999e-01  6.675e-02  -4.493 8.11e-06 ***\n",
              "Accept       8.024e-01  1.274e-01   6.298 5.10e-10 ***\n",
              "Enroll      -5.373e-01  3.513e-01  -1.530  0.12654    \n",
              "Top10perc    2.366e+01  6.601e+00   3.584  0.00036 ***\n",
              "F.Undergrad -9.570e-02  5.930e-02  -1.614  0.10701    \n",
              "Room.Board   8.742e-01  8.446e-02  10.350  < 2e-16 ***\n",
              "Personal    -2.478e-01  1.157e-01  -2.143  0.03244 *  \n",
              "PhD          1.270e+01  8.609e+00   1.475  0.14071    \n",
              "Terminal     2.297e+01  9.387e+00   2.447  0.01462 *  \n",
              "S.F.Ratio   -4.701e+01  2.438e+01  -1.928  0.05420 .  \n",
              "perc.alumni  4.195e+01  7.526e+00   5.574 3.45e-08 ***\n",
              "Expend       2.004e-01  2.226e-02   9.000  < 2e-16 ***\n",
              "Grad.Rate    2.383e+01  5.425e+00   4.393 1.28e-05 ***\n",
              "---\n",
              "Signif. codes:  0 ‘***’ 0.001 ‘**’ 0.01 ‘*’ 0.05 ‘.’ 0.1 ‘ ’ 1\n",
              "\n",
              "Residual standard error: 1955 on 762 degrees of freedom\n",
              "Multiple R-squared:  0.768,\tAdjusted R-squared:  0.7638 \n",
              "F-statistic: 180.2 on 14 and 762 DF,  p-value: < 2.2e-16\n"
            ]
          },
          "metadata": {}
        }
      ]
    },
    {
      "cell_type": "code",
      "metadata": {
        "colab": {
          "base_uri": "https://localhost:8080/",
          "height": 623
        },
        "id": "7d30a63e",
        "outputId": "a07410f9-0cf6-4463-a44a-8990bd2c60eb"
      },
      "source": [
        "college_step_both <- step(full_college_lm, direction = \"both\", trace = 0)\n",
        "summary(college_step_both)"
      ],
      "execution_count": 64,
      "outputs": [
        {
          "output_type": "display_data",
          "data": {
            "text/plain": [
              "\n",
              "Call:\n",
              "lm(formula = Outstate ~ Private + Apps + Accept + Enroll + Top10perc + \n",
              "    F.Undergrad + Room.Board + Personal + PhD + Terminal + S.F.Ratio + \n",
              "    perc.alumni + Expend + Grad.Rate, data = df_college)\n",
              "\n",
              "Residuals:\n",
              "    Min      1Q  Median      3Q     Max \n",
              "-6740.7 -1271.7   -40.8  1246.6  9907.5 \n",
              "\n",
              "Coefficients:\n",
              "              Estimate Std. Error t value Pr(>|t|)    \n",
              "(Intercept) -1.817e+03  7.346e+02  -2.474  0.01360 *  \n",
              "PrivateYes   2.257e+03  2.474e+02   9.122  < 2e-16 ***\n",
              "Apps        -2.999e-01  6.675e-02  -4.493 8.11e-06 ***\n",
              "Accept       8.024e-01  1.274e-01   6.298 5.10e-10 ***\n",
              "Enroll      -5.373e-01  3.513e-01  -1.530  0.12654    \n",
              "Top10perc    2.366e+01  6.601e+00   3.584  0.00036 ***\n",
              "F.Undergrad -9.570e-02  5.930e-02  -1.614  0.10701    \n",
              "Room.Board   8.742e-01  8.446e-02  10.350  < 2e-16 ***\n",
              "Personal    -2.478e-01  1.157e-01  -2.143  0.03244 *  \n",
              "PhD          1.270e+01  8.609e+00   1.475  0.14071    \n",
              "Terminal     2.297e+01  9.387e+00   2.447  0.01462 *  \n",
              "S.F.Ratio   -4.701e+01  2.438e+01  -1.928  0.05420 .  \n",
              "perc.alumni  4.195e+01  7.526e+00   5.574 3.45e-08 ***\n",
              "Expend       2.004e-01  2.226e-02   9.000  < 2e-16 ***\n",
              "Grad.Rate    2.383e+01  5.425e+00   4.393 1.28e-05 ***\n",
              "---\n",
              "Signif. codes:  0 ‘***’ 0.001 ‘**’ 0.01 ‘*’ 0.05 ‘.’ 0.1 ‘ ’ 1\n",
              "\n",
              "Residual standard error: 1955 on 762 degrees of freedom\n",
              "Multiple R-squared:  0.768,\tAdjusted R-squared:  0.7638 \n",
              "F-statistic: 180.2 on 14 and 762 DF,  p-value: < 2.2e-16\n"
            ]
          },
          "metadata": {}
        }
      ]
    },
    {
      "cell_type": "markdown",
      "source": [
        "## ISLR::OJ price"
      ],
      "metadata": {
        "id": "vPW14jY4bvAX"
      }
    },
    {
      "cell_type": "code",
      "metadata": {
        "colab": {
          "base_uri": "https://localhost:8080/",
          "height": 286
        },
        "id": "fccf877f",
        "outputId": "a5d7b38e-816a-4efb-ed89-67f0c910ee7c"
      },
      "source": [
        "df_oj <- ISLR::OJ\n",
        "head(df_oj)"
      ],
      "execution_count": 68,
      "outputs": [
        {
          "output_type": "display_data",
          "data": {
            "text/html": [
              "<table class=\"dataframe\">\n",
              "<caption>A data.frame: 6 × 18</caption>\n",
              "<thead>\n",
              "\t<tr><th></th><th scope=col>Purchase</th><th scope=col>WeekofPurchase</th><th scope=col>StoreID</th><th scope=col>PriceCH</th><th scope=col>PriceMM</th><th scope=col>DiscCH</th><th scope=col>DiscMM</th><th scope=col>SpecialCH</th><th scope=col>SpecialMM</th><th scope=col>LoyalCH</th><th scope=col>SalePriceMM</th><th scope=col>SalePriceCH</th><th scope=col>PriceDiff</th><th scope=col>Store7</th><th scope=col>PctDiscMM</th><th scope=col>PctDiscCH</th><th scope=col>ListPriceDiff</th><th scope=col>STORE</th></tr>\n",
              "\t<tr><th></th><th scope=col>&lt;fct&gt;</th><th scope=col>&lt;dbl&gt;</th><th scope=col>&lt;dbl&gt;</th><th scope=col>&lt;dbl&gt;</th><th scope=col>&lt;dbl&gt;</th><th scope=col>&lt;dbl&gt;</th><th scope=col>&lt;dbl&gt;</th><th scope=col>&lt;dbl&gt;</th><th scope=col>&lt;dbl&gt;</th><th scope=col>&lt;dbl&gt;</th><th scope=col>&lt;dbl&gt;</th><th scope=col>&lt;dbl&gt;</th><th scope=col>&lt;dbl&gt;</th><th scope=col>&lt;fct&gt;</th><th scope=col>&lt;dbl&gt;</th><th scope=col>&lt;dbl&gt;</th><th scope=col>&lt;dbl&gt;</th><th scope=col>&lt;dbl&gt;</th></tr>\n",
              "</thead>\n",
              "<tbody>\n",
              "\t<tr><th scope=row>1</th><td>CH</td><td>237</td><td>1</td><td>1.75</td><td>1.99</td><td>0.00</td><td>0.0</td><td>0</td><td>0</td><td>0.500000</td><td>1.99</td><td>1.75</td><td> 0.24</td><td>No </td><td>0.000000</td><td>0.000000</td><td>0.24</td><td>1</td></tr>\n",
              "\t<tr><th scope=row>2</th><td>CH</td><td>239</td><td>1</td><td>1.75</td><td>1.99</td><td>0.00</td><td>0.3</td><td>0</td><td>1</td><td>0.600000</td><td>1.69</td><td>1.75</td><td>-0.06</td><td>No </td><td>0.150754</td><td>0.000000</td><td>0.24</td><td>1</td></tr>\n",
              "\t<tr><th scope=row>3</th><td>CH</td><td>245</td><td>1</td><td>1.86</td><td>2.09</td><td>0.17</td><td>0.0</td><td>0</td><td>0</td><td>0.680000</td><td>2.09</td><td>1.69</td><td> 0.40</td><td>No </td><td>0.000000</td><td>0.091398</td><td>0.23</td><td>1</td></tr>\n",
              "\t<tr><th scope=row>4</th><td>MM</td><td>227</td><td>1</td><td>1.69</td><td>1.69</td><td>0.00</td><td>0.0</td><td>0</td><td>0</td><td>0.400000</td><td>1.69</td><td>1.69</td><td> 0.00</td><td>No </td><td>0.000000</td><td>0.000000</td><td>0.00</td><td>1</td></tr>\n",
              "\t<tr><th scope=row>5</th><td>CH</td><td>228</td><td>7</td><td>1.69</td><td>1.69</td><td>0.00</td><td>0.0</td><td>0</td><td>0</td><td>0.956535</td><td>1.69</td><td>1.69</td><td> 0.00</td><td>Yes</td><td>0.000000</td><td>0.000000</td><td>0.00</td><td>0</td></tr>\n",
              "\t<tr><th scope=row>6</th><td>CH</td><td>230</td><td>7</td><td>1.69</td><td>1.99</td><td>0.00</td><td>0.0</td><td>0</td><td>1</td><td>0.965228</td><td>1.99</td><td>1.69</td><td> 0.30</td><td>Yes</td><td>0.000000</td><td>0.000000</td><td>0.30</td><td>0</td></tr>\n",
              "</tbody>\n",
              "</table>\n"
            ],
            "text/markdown": "\nA data.frame: 6 × 18\n\n| <!--/--> | Purchase &lt;fct&gt; | WeekofPurchase &lt;dbl&gt; | StoreID &lt;dbl&gt; | PriceCH &lt;dbl&gt; | PriceMM &lt;dbl&gt; | DiscCH &lt;dbl&gt; | DiscMM &lt;dbl&gt; | SpecialCH &lt;dbl&gt; | SpecialMM &lt;dbl&gt; | LoyalCH &lt;dbl&gt; | SalePriceMM &lt;dbl&gt; | SalePriceCH &lt;dbl&gt; | PriceDiff &lt;dbl&gt; | Store7 &lt;fct&gt; | PctDiscMM &lt;dbl&gt; | PctDiscCH &lt;dbl&gt; | ListPriceDiff &lt;dbl&gt; | STORE &lt;dbl&gt; |\n|---|---|---|---|---|---|---|---|---|---|---|---|---|---|---|---|---|---|---|\n| 1 | CH | 237 | 1 | 1.75 | 1.99 | 0.00 | 0.0 | 0 | 0 | 0.500000 | 1.99 | 1.75 |  0.24 | No  | 0.000000 | 0.000000 | 0.24 | 1 |\n| 2 | CH | 239 | 1 | 1.75 | 1.99 | 0.00 | 0.3 | 0 | 1 | 0.600000 | 1.69 | 1.75 | -0.06 | No  | 0.150754 | 0.000000 | 0.24 | 1 |\n| 3 | CH | 245 | 1 | 1.86 | 2.09 | 0.17 | 0.0 | 0 | 0 | 0.680000 | 2.09 | 1.69 |  0.40 | No  | 0.000000 | 0.091398 | 0.23 | 1 |\n| 4 | MM | 227 | 1 | 1.69 | 1.69 | 0.00 | 0.0 | 0 | 0 | 0.400000 | 1.69 | 1.69 |  0.00 | No  | 0.000000 | 0.000000 | 0.00 | 1 |\n| 5 | CH | 228 | 7 | 1.69 | 1.69 | 0.00 | 0.0 | 0 | 0 | 0.956535 | 1.69 | 1.69 |  0.00 | Yes | 0.000000 | 0.000000 | 0.00 | 0 |\n| 6 | CH | 230 | 7 | 1.69 | 1.99 | 0.00 | 0.0 | 0 | 1 | 0.965228 | 1.99 | 1.69 |  0.30 | Yes | 0.000000 | 0.000000 | 0.30 | 0 |\n\n",
            "text/latex": "A data.frame: 6 × 18\n\\begin{tabular}{r|llllllllllllllllll}\n  & Purchase & WeekofPurchase & StoreID & PriceCH & PriceMM & DiscCH & DiscMM & SpecialCH & SpecialMM & LoyalCH & SalePriceMM & SalePriceCH & PriceDiff & Store7 & PctDiscMM & PctDiscCH & ListPriceDiff & STORE\\\\\n  & <fct> & <dbl> & <dbl> & <dbl> & <dbl> & <dbl> & <dbl> & <dbl> & <dbl> & <dbl> & <dbl> & <dbl> & <dbl> & <fct> & <dbl> & <dbl> & <dbl> & <dbl>\\\\\n\\hline\n\t1 & CH & 237 & 1 & 1.75 & 1.99 & 0.00 & 0.0 & 0 & 0 & 0.500000 & 1.99 & 1.75 &  0.24 & No  & 0.000000 & 0.000000 & 0.24 & 1\\\\\n\t2 & CH & 239 & 1 & 1.75 & 1.99 & 0.00 & 0.3 & 0 & 1 & 0.600000 & 1.69 & 1.75 & -0.06 & No  & 0.150754 & 0.000000 & 0.24 & 1\\\\\n\t3 & CH & 245 & 1 & 1.86 & 2.09 & 0.17 & 0.0 & 0 & 0 & 0.680000 & 2.09 & 1.69 &  0.40 & No  & 0.000000 & 0.091398 & 0.23 & 1\\\\\n\t4 & MM & 227 & 1 & 1.69 & 1.69 & 0.00 & 0.0 & 0 & 0 & 0.400000 & 1.69 & 1.69 &  0.00 & No  & 0.000000 & 0.000000 & 0.00 & 1\\\\\n\t5 & CH & 228 & 7 & 1.69 & 1.69 & 0.00 & 0.0 & 0 & 0 & 0.956535 & 1.69 & 1.69 &  0.00 & Yes & 0.000000 & 0.000000 & 0.00 & 0\\\\\n\t6 & CH & 230 & 7 & 1.69 & 1.99 & 0.00 & 0.0 & 0 & 1 & 0.965228 & 1.99 & 1.69 &  0.30 & Yes & 0.000000 & 0.000000 & 0.30 & 0\\\\\n\\end{tabular}\n",
            "text/plain": [
              "  Purchase WeekofPurchase StoreID PriceCH PriceMM DiscCH DiscMM SpecialCH\n",
              "1 CH       237            1       1.75    1.99    0.00   0.0    0        \n",
              "2 CH       239            1       1.75    1.99    0.00   0.3    0        \n",
              "3 CH       245            1       1.86    2.09    0.17   0.0    0        \n",
              "4 MM       227            1       1.69    1.69    0.00   0.0    0        \n",
              "5 CH       228            7       1.69    1.69    0.00   0.0    0        \n",
              "6 CH       230            7       1.69    1.99    0.00   0.0    0        \n",
              "  SpecialMM LoyalCH  SalePriceMM SalePriceCH PriceDiff Store7 PctDiscMM\n",
              "1 0         0.500000 1.99        1.75         0.24     No     0.000000 \n",
              "2 1         0.600000 1.69        1.75        -0.06     No     0.150754 \n",
              "3 0         0.680000 2.09        1.69         0.40     No     0.000000 \n",
              "4 0         0.400000 1.69        1.69         0.00     No     0.000000 \n",
              "5 0         0.956535 1.69        1.69         0.00     Yes    0.000000 \n",
              "6 1         0.965228 1.99        1.69         0.30     Yes    0.000000 \n",
              "  PctDiscCH ListPriceDiff STORE\n",
              "1 0.000000  0.24          1    \n",
              "2 0.000000  0.24          1    \n",
              "3 0.091398  0.23          1    \n",
              "4 0.000000  0.00          1    \n",
              "5 0.000000  0.00          0    \n",
              "6 0.000000  0.30          0    "
            ]
          },
          "metadata": {}
        }
      ]
    },
    {
      "cell_type": "code",
      "metadata": {
        "colab": {
          "base_uri": "https://localhost:8080/",
          "height": 293
        },
        "id": "84b627d8",
        "outputId": "bd3965be-5285-42f0-fb2e-1b60d22c4ec3"
      },
      "source": [
        "null_oj_lm <- lm(PriceDiff ~ 1, data = df_oj)\n",
        "summary(null_oj_lm)"
      ],
      "execution_count": 69,
      "outputs": [
        {
          "output_type": "display_data",
          "data": {
            "text/plain": [
              "\n",
              "Call:\n",
              "lm(formula = PriceDiff ~ 1, data = df_oj)\n",
              "\n",
              "Residuals:\n",
              "     Min       1Q   Median       3Q      Max \n",
              "-0.81649 -0.14649  0.08351  0.17351  0.49351 \n",
              "\n",
              "Coefficients:\n",
              "            Estimate Std. Error t value Pr(>|t|)    \n",
              "(Intercept) 0.146486   0.008302   17.64   <2e-16 ***\n",
              "---\n",
              "Signif. codes:  0 ‘***’ 0.001 ‘**’ 0.01 ‘*’ 0.05 ‘.’ 0.1 ‘ ’ 1\n",
              "\n",
              "Residual standard error: 0.2716 on 1069 degrees of freedom\n"
            ]
          },
          "metadata": {}
        }
      ]
    },
    {
      "cell_type": "code",
      "metadata": {
        "colab": {
          "base_uri": "https://localhost:8080/",
          "height": 458
        },
        "id": "a83924fe",
        "outputId": "75e92400-9529-48ab-9cdd-270350d14884"
      },
      "source": [
        "full_oj_lm <- lm(PriceDiff ~ StoreID + LoyalCH + Store7 + PctDiscMM + PctDiscCH + ListPriceDiff, data = df_oj)\n",
        "summary(full_oj_lm)"
      ],
      "execution_count": 70,
      "outputs": [
        {
          "output_type": "display_data",
          "data": {
            "text/plain": [
              "\n",
              "Call:\n",
              "lm(formula = PriceDiff ~ StoreID + LoyalCH + Store7 + PctDiscMM + \n",
              "    PctDiscCH + ListPriceDiff, data = df_oj)\n",
              "\n",
              "Residuals:\n",
              "      Min        1Q    Median        3Q       Max \n",
              "-0.040203 -0.003972 -0.000869  0.002721  0.040780 \n",
              "\n",
              "Coefficients:\n",
              "                Estimate Std. Error  t value Pr(>|t|)    \n",
              "(Intercept)    0.0127905  0.0014606    8.757  < 2e-16 ***\n",
              "StoreID       -0.0014072  0.0004037   -3.486 0.000511 ***\n",
              "LoyalCH       -0.0006949  0.0011078   -0.627 0.530599    \n",
              "Store7Yes      0.0110670  0.0020085    5.510  4.5e-08 ***\n",
              "PctDiscMM     -2.1070058  0.0033236 -633.955  < 2e-16 ***\n",
              "PctDiscCH      1.8608085  0.0057019  326.351  < 2e-16 ***\n",
              "ListPriceDiff  0.9637802  0.0032377  297.670  < 2e-16 ***\n",
              "---\n",
              "Signif. codes:  0 ‘***’ 0.001 ‘**’ 0.01 ‘*’ 0.05 ‘.’ 0.1 ‘ ’ 1\n",
              "\n",
              "Residual standard error: 0.01078 on 1063 degrees of freedom\n",
              "Multiple R-squared:  0.9984,\tAdjusted R-squared:  0.9984 \n",
              "F-statistic: 1.129e+05 on 6 and 1063 DF,  p-value: < 2.2e-16\n"
            ]
          },
          "metadata": {}
        }
      ]
    },
    {
      "cell_type": "code",
      "metadata": {
        "colab": {
          "base_uri": "https://localhost:8080/",
          "height": 439
        },
        "id": "14753b14",
        "outputId": "e2d45a26-a984-4885-dfd7-6450f3a7ff26"
      },
      "source": [
        "oj_step_forward <- step(null_oj_lm, scope=formula(full_oj_lm), direction='forward', trace=0)\n",
        "summary(oj_step_forward)"
      ],
      "execution_count": 71,
      "outputs": [
        {
          "output_type": "display_data",
          "data": {
            "text/plain": [
              "\n",
              "Call:\n",
              "lm(formula = PriceDiff ~ PctDiscMM + PctDiscCH + ListPriceDiff + \n",
              "    Store7 + StoreID, data = df_oj)\n",
              "\n",
              "Residuals:\n",
              "      Min        1Q    Median        3Q       Max \n",
              "-0.039930 -0.003889 -0.000933  0.002685  0.040659 \n",
              "\n",
              "Coefficients:\n",
              "                Estimate Std. Error  t value Pr(>|t|)    \n",
              "(Intercept)    0.0125306  0.0014002    8.949  < 2e-16 ***\n",
              "PctDiscMM     -2.1069811  0.0033224 -634.172  < 2e-16 ***\n",
              "PctDiscCH      1.8605415  0.0056843  327.310  < 2e-16 ***\n",
              "ListPriceDiff  0.9636525  0.0032304  298.306  < 2e-16 ***\n",
              "Store7Yes      0.0111250  0.0020058    5.546 3.68e-08 ***\n",
              "StoreID       -0.0014372  0.0004007   -3.586  0.00035 ***\n",
              "---\n",
              "Signif. codes:  0 ‘***’ 0.001 ‘**’ 0.01 ‘*’ 0.05 ‘.’ 0.1 ‘ ’ 1\n",
              "\n",
              "Residual standard error: 0.01078 on 1064 degrees of freedom\n",
              "Multiple R-squared:  0.9984,\tAdjusted R-squared:  0.9984 \n",
              "F-statistic: 1.356e+05 on 5 and 1064 DF,  p-value: < 2.2e-16\n"
            ]
          },
          "metadata": {}
        }
      ]
    },
    {
      "cell_type": "code",
      "metadata": {
        "colab": {
          "base_uri": "https://localhost:8080/",
          "height": 439
        },
        "id": "0b7c452d",
        "outputId": "c59cbf3d-a48a-4bcd-b631-2477facc0bb4"
      },
      "source": [
        "oj_step_backward <- step(full_oj_lm, direction='backward', trace=0)\n",
        "summary(oj_step_backward)"
      ],
      "execution_count": 72,
      "outputs": [
        {
          "output_type": "display_data",
          "data": {
            "text/plain": [
              "\n",
              "Call:\n",
              "lm(formula = PriceDiff ~ StoreID + Store7 + PctDiscMM + PctDiscCH + \n",
              "    ListPriceDiff, data = df_oj)\n",
              "\n",
              "Residuals:\n",
              "      Min        1Q    Median        3Q       Max \n",
              "-0.039930 -0.003889 -0.000933  0.002685  0.040659 \n",
              "\n",
              "Coefficients:\n",
              "                Estimate Std. Error  t value Pr(>|t|)    \n",
              "(Intercept)    0.0125306  0.0014002    8.949  < 2e-16 ***\n",
              "StoreID       -0.0014372  0.0004007   -3.586  0.00035 ***\n",
              "Store7Yes      0.0111250  0.0020058    5.546 3.68e-08 ***\n",
              "PctDiscMM     -2.1069811  0.0033224 -634.172  < 2e-16 ***\n",
              "PctDiscCH      1.8605415  0.0056843  327.310  < 2e-16 ***\n",
              "ListPriceDiff  0.9636525  0.0032304  298.306  < 2e-16 ***\n",
              "---\n",
              "Signif. codes:  0 ‘***’ 0.001 ‘**’ 0.01 ‘*’ 0.05 ‘.’ 0.1 ‘ ’ 1\n",
              "\n",
              "Residual standard error: 0.01078 on 1064 degrees of freedom\n",
              "Multiple R-squared:  0.9984,\tAdjusted R-squared:  0.9984 \n",
              "F-statistic: 1.356e+05 on 5 and 1064 DF,  p-value: < 2.2e-16\n"
            ]
          },
          "metadata": {}
        }
      ]
    },
    {
      "cell_type": "code",
      "metadata": {
        "colab": {
          "base_uri": "https://localhost:8080/",
          "height": 439
        },
        "id": "9b706e88",
        "outputId": "eb315f6d-ed9e-46b5-b4d0-fcdbe5b20253"
      },
      "source": [
        "oj_step_both <- step(full_oj_lm, direction = \"both\", trace = 0)\n",
        "summary(oj_step_both)"
      ],
      "execution_count": 73,
      "outputs": [
        {
          "output_type": "display_data",
          "data": {
            "text/plain": [
              "\n",
              "Call:\n",
              "lm(formula = PriceDiff ~ StoreID + Store7 + PctDiscMM + PctDiscCH + \n",
              "    ListPriceDiff, data = df_oj)\n",
              "\n",
              "Residuals:\n",
              "      Min        1Q    Median        3Q       Max \n",
              "-0.039930 -0.003889 -0.000933  0.002685  0.040659 \n",
              "\n",
              "Coefficients:\n",
              "                Estimate Std. Error  t value Pr(>|t|)    \n",
              "(Intercept)    0.0125306  0.0014002    8.949  < 2e-16 ***\n",
              "StoreID       -0.0014372  0.0004007   -3.586  0.00035 ***\n",
              "Store7Yes      0.0111250  0.0020058    5.546 3.68e-08 ***\n",
              "PctDiscMM     -2.1069811  0.0033224 -634.172  < 2e-16 ***\n",
              "PctDiscCH      1.8605415  0.0056843  327.310  < 2e-16 ***\n",
              "ListPriceDiff  0.9636525  0.0032304  298.306  < 2e-16 ***\n",
              "---\n",
              "Signif. codes:  0 ‘***’ 0.001 ‘**’ 0.01 ‘*’ 0.05 ‘.’ 0.1 ‘ ’ 1\n",
              "\n",
              "Residual standard error: 0.01078 on 1064 degrees of freedom\n",
              "Multiple R-squared:  0.9984,\tAdjusted R-squared:  0.9984 \n",
              "F-statistic: 1.356e+05 on 5 and 1064 DF,  p-value: < 2.2e-16\n"
            ]
          },
          "metadata": {}
        }
      ]
    }
  ]
}