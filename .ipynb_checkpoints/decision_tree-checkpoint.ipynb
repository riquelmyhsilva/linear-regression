{
 "cells": [
  {
   "cell_type": "code",
   "execution_count": 1,
   "id": "64170fd6-00dc-4d1c-8028-6e4796e529a1",
   "metadata": {},
   "outputs": [],
   "source": [
    "library(rpart)\n",
    "library(rpart.plot)"
   ]
  },
  {
   "cell_type": "markdown",
   "id": "08fbb0f5-27ea-4f08-86f3-169f19490c82",
   "metadata": {},
   "source": [
    "#### Criando o dataframe"
   ]
  },
  {
   "cell_type": "code",
   "execution_count": 2,
   "id": "40853a33-518d-4d17-88b4-debf9a2fcc80",
   "metadata": {},
   "outputs": [],
   "source": [
    "df <- data.frame(\n",
    "    marital_status = as.factor(c(\"Single\",\"Married\",\"Single\",\"Married\",\"Single\")),\n",
    "    income = c(1000, 2000, 3500, 4000, 5000),\n",
    "    buy = c(0, 1, 0, 1, 1)\n",
    ")"
   ]
  },
  {
   "cell_type": "markdown",
   "id": "99c1167d-cafc-4a9c-958b-738c49db986c",
   "metadata": {},
   "source": [
    "#### Classificação: transformar a resposta em faot (0/1 -> No/Yes)"
   ]
  },
  {
   "cell_type": "code",
   "execution_count": 3,
   "id": "115deb53-9a23-4130-94fa-98381e56d8d7",
   "metadata": {},
   "outputs": [
    {
     "data": {
      "text/html": [
       "<table>\n",
       "<caption>A data.frame: 5 x 3</caption>\n",
       "<thead>\n",
       "\t<tr><th scope=col>marital_status</th><th scope=col>income</th><th scope=col>buy</th></tr>\n",
       "\t<tr><th scope=col>&lt;fct&gt;</th><th scope=col>&lt;dbl&gt;</th><th scope=col>&lt;fct&gt;</th></tr>\n",
       "</thead>\n",
       "<tbody>\n",
       "\t<tr><td>Single </td><td>1000</td><td>No </td></tr>\n",
       "\t<tr><td>Married</td><td>2000</td><td>Yes</td></tr>\n",
       "\t<tr><td>Single </td><td>3500</td><td>No </td></tr>\n",
       "\t<tr><td>Married</td><td>4000</td><td>Yes</td></tr>\n",
       "\t<tr><td>Single </td><td>5000</td><td>Yes</td></tr>\n",
       "</tbody>\n",
       "</table>\n"
      ],
      "text/latex": [
       "A data.frame: 5 x 3\n",
       "\\begin{tabular}{lll}\n",
       " marital\\_status & income & buy\\\\\n",
       " <fct> & <dbl> & <fct>\\\\\n",
       "\\hline\n",
       "\t Single  & 1000 & No \\\\\n",
       "\t Married & 2000 & Yes\\\\\n",
       "\t Single  & 3500 & No \\\\\n",
       "\t Married & 4000 & Yes\\\\\n",
       "\t Single  & 5000 & Yes\\\\\n",
       "\\end{tabular}\n"
      ],
      "text/markdown": [
       "\n",
       "A data.frame: 5 x 3\n",
       "\n",
       "| marital_status &lt;fct&gt; | income &lt;dbl&gt; | buy &lt;fct&gt; |\n",
       "|---|---|---|\n",
       "| Single  | 1000 | No  |\n",
       "| Married | 2000 | Yes |\n",
       "| Single  | 3500 | No  |\n",
       "| Married | 4000 | Yes |\n",
       "| Single  | 5000 | Yes |\n",
       "\n"
      ],
      "text/plain": [
       "  marital_status income buy\n",
       "1 Single         1000   No \n",
       "2 Married        2000   Yes\n",
       "3 Single         3500   No \n",
       "4 Married        4000   Yes\n",
       "5 Single         5000   Yes"
      ]
     },
     "metadata": {},
     "output_type": "display_data"
    }
   ],
   "source": [
    "df$buy <- factor(df$buy, levels = c(0,1), labels = c(\"No\",\"Yes\"))\n",
    "\n",
    "df"
   ]
  },
  {
   "cell_type": "markdown",
   "id": "fc688636-109f-4e0a-9625-2b1451d86ac3",
   "metadata": {},
   "source": [
    "#### Critério GINI"
   ]
  },
  {
   "cell_type": "code",
   "execution_count": 4,
   "id": "1d2d08b0-bd5d-4e0c-9d3e-e0633e7c3e0d",
   "metadata": {},
   "outputs": [
    {
     "data": {
      "text/plain": [
       "n= 5 \n",
       "\n",
       "node), split, n, loss, yval, (yprob)\n",
       "      * denotes terminal node\n",
       "\n",
       "1) root 5 2 Yes (0.4000000 0.6000000)  \n",
       "  2) marital_status=Single 3 1 No (0.6666667 0.3333333)  \n",
       "    4) income< 4250 2 0 No (1.0000000 0.0000000) *\n",
       "    5) income>=4250 1 0 Yes (0.0000000 1.0000000) *\n",
       "  3) marital_status=Married 2 0 Yes (0.0000000 1.0000000) *"
      ]
     },
     "metadata": {},
     "output_type": "display_data"
    }
   ],
   "source": [
    "decision_tree <- rpart(formula = buy ~ marital_status + income,\n",
    "                      data = df,\n",
    "                      method = \"class\",\n",
    "                      parms = list(split = \"gini\"), # \"gini\" ou \"information\" para entropia\n",
    "                      control = rpart.control(cp = 0.0, # deixar crescer (poucos dados)\n",
    "                                              minsplit = 2,\n",
    "                                              minbucket = 1,\n",
    "                                              maxdepth = 4,\n",
    "                                              xval = 10))\n",
    "\n",
    "decision_tree"
   ]
  },
  {
   "cell_type": "markdown",
   "id": "74bd97df-5d25-424c-a084-42ae84aa75a3",
   "metadata": {},
   "source": [
    "#### Gráfico da árvore"
   ]
  },
  {
   "cell_type": "code",
   "execution_count": 9,
   "id": "d52dbc6e-03a4-4d34-bc30-7d2b0039e51e",
   "metadata": {},
   "outputs": [
    {
     "data": {
      "image/png": "[encoded data removed]",
      "text/plain": [
       "Plot with title \"Tree (unproned)\""
      ]
     },
     "metadata": {
      "image/png": {
       "height": 420,
       "width": 420
      }
     },
     "output_type": "display_data"
    }
   ],
   "source": [
    "rpart.plot(decision_tree,\n",
    "           type = 3,\n",
    "          extra = 104,\n",
    "          under =TRUE,\n",
    "          faclen = 0,\n",
    "          fallen.leaves = TRUE,\n",
    "          main = \"Tree (unproned)\")"
   ]
  },
  {
   "cell_type": "markdown",
   "id": "acbd4b15-d9d1-4538-a443-5e7daa6660b8",
   "metadata": {},
   "source": [
    "#### Novo dataframe para prefição"
   ]
  },
  {
   "cell_type": "code",
   "execution_count": 13,
   "id": "b9b7475c-9094-479f-bab3-c91232c6e438",
   "metadata": {},
   "outputs": [
    {
     "data": {
      "text/html": [
       "<table>\n",
       "<caption>A data.frame: 3 x 2</caption>\n",
       "<thead>\n",
       "\t<tr><th scope=col>marital_status</th><th scope=col>income</th></tr>\n",
       "\t<tr><th scope=col>&lt;fct&gt;</th><th scope=col>&lt;dbl&gt;</th></tr>\n",
       "</thead>\n",
       "<tbody>\n",
       "\t<tr><td>Single </td><td>3000</td></tr>\n",
       "\t<tr><td>Single </td><td>6000</td></tr>\n",
       "\t<tr><td>Married</td><td>2500</td></tr>\n",
       "</tbody>\n",
       "</table>\n"
      ],
      "text/latex": [
       "A data.frame: 3 x 2\n",
       "\\begin{tabular}{ll}\n",
       " marital\\_status & income\\\\\n",
       " <fct> & <dbl>\\\\\n",
       "\\hline\n",
       "\t Single  & 3000\\\\\n",
       "\t Single  & 6000\\\\\n",
       "\t Married & 2500\\\\\n",
       "\\end{tabular}\n"
      ],
      "text/markdown": [
       "\n",
       "A data.frame: 3 x 2\n",
       "\n",
       "| marital_status &lt;fct&gt; | income &lt;dbl&gt; |\n",
       "|---|---|\n",
       "| Single  | 3000 |\n",
       "| Single  | 6000 |\n",
       "| Married | 2500 |\n",
       "\n"
      ],
      "text/plain": [
       "  marital_status income\n",
       "1 Single         3000  \n",
       "2 Single         6000  \n",
       "3 Married        2500  "
      ]
     },
     "metadata": {},
     "output_type": "display_data"
    }
   ],
   "source": [
    "new_df <- data.frame(marital_status = factor(c(\"Single\",\"Single\",\"Married\"),\n",
    "                                            levels = levels(df$marital_status)),\n",
    "                    income = c(3000, 6000, 2500))\n",
    "\n",
    "new_df"
   ]
  },
  {
   "cell_type": "markdown",
   "id": "a2c83958-bee7-445d-8988-e51db17f31b6",
   "metadata": {},
   "source": [
    "#### Predição"
   ]
  },
  {
   "cell_type": "code",
   "execution_count": 21,
   "id": "a27365aa-9c05-4f08-b8d1-ef1a4c3c2776",
   "metadata": {},
   "outputs": [],
   "source": [
    "prediction_new_probability <- predict(decision_tree, new_df, type = \"prob\")[,\"Yes\"]\n",
    "prediction_new_classes <-predict(decision_tree, new_df, type = \"class\")"
   ]
  },
  {
   "cell_type": "markdown",
   "id": "448d24d4-e09e-4837-80d9-829337c98257",
   "metadata": {},
   "source": [
    "#### Criando novo dataframe"
   ]
  },
  {
   "cell_type": "code",
   "execution_count": 22,
   "id": "473e7285-b5c6-44b2-bc34-0485d08ad2ff",
   "metadata": {},
   "outputs": [
    {
     "data": {
      "text/html": [
       "<style>\n",
       ".dl-inline {width: auto; margin:0; padding: 0}\n",
       ".dl-inline>dt, .dl-inline>dd {float: none; width: auto; display: inline-block}\n",
       ".dl-inline>dt::after {content: \":\\0020\"; padding-right: .5ex}\n",
       ".dl-inline>dt:not(:first-of-type) {padding-left: .5ex}\n",
       "</style><dl class=dl-inline><dt>1</dt><dd>No</dd><dt>2</dt><dd>Yes</dd><dt>3</dt><dd>Yes</dd></dl>\n",
       "\n",
       "<details>\n",
       "\t<summary style=display:list-item;cursor:pointer>\n",
       "\t\t<strong>Levels</strong>:\n",
       "\t</summary>\n",
       "\t<style>\n",
       "\t.list-inline {list-style: none; margin:0; padding: 0}\n",
       "\t.list-inline>li {display: inline-block}\n",
       "\t.list-inline>li:not(:last-child)::after {content: \"\\00b7\"; padding: 0 .5ex}\n",
       "\t</style>\n",
       "\t<ol class=list-inline><li>'No'</li><li>'Yes'</li></ol>\n",
       "</details>"
      ],
      "text/latex": [
       "\\begin{description*}\n",
       "\\item[1] No\n",
       "\\item[2] Yes\n",
       "\\item[3] Yes\n",
       "\\end{description*}\n",
       "\n",
       "\\emph{Levels}: \\begin{enumerate*}\n",
       "\\item 'No'\n",
       "\\item 'Yes'\n",
       "\\end{enumerate*}\n"
      ],
      "text/markdown": [
       "1\n",
       ":   No2\n",
       ":   Yes3\n",
       ":   Yes\n",
       "\n",
       "\n",
       "**Levels**: 1. 'No'\n",
       "2. 'Yes'\n",
       "\n",
       "\n"
      ],
      "text/plain": [
       "  1   2   3 \n",
       " No Yes Yes \n",
       "Levels: No Yes"
      ]
     },
     "metadata": {},
     "output_type": "display_data"
    }
   ],
   "source": [
    "new_df <- prediction_new_classes\n",
    "new_df"
   ]
  }
 ],
 "metadata": {
  "kernelspec": {
   "display_name": "R - r-data-science",
   "language": "R",
   "name": "ir_r-data-science"
  },
  "language_info": {
   "codemirror_mode": "r",
   "file_extension": ".r",
   "mimetype": "text/x-r-source",
   "name": "R",
   "pygments_lexer": "r",
   "version": "4.0.4"
  }
 },
 "nbformat": 4,
 "nbformat_minor": 5
}
