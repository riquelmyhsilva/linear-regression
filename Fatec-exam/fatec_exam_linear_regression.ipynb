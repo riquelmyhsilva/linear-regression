{
 "cells": [
  {
   "cell_type": "markdown",
   "id": "6f4f4e76-53a0-4db2-bb2e-dff3bd417fdf",
   "metadata": {},
   "source": [
    "#### Limpeza do ambiente"
   ]
  },
  {
   "cell_type": "markdown",
   "id": "d4d44f33-272b-45d5-9af9-a60491f21b28",
   "metadata": {},
   "source": [
    "rm(list=ls())"
   ]
  },
  {
   "cell_type": "markdown",
   "id": "c437abca-4f2d-4c74-a5cb-bc5563719654",
   "metadata": {},
   "source": [
    "#### Carregar dados"
   ]
  },
  {
   "cell_type": "code",
   "execution_count": 2,
   "id": "a0662c3a-b124-4fe6-ba5d-e29e74d33534",
   "metadata": {},
   "outputs": [
    {
     "data": {
      "text/html": [
       "<table>\n",
       "<caption>A data.frame: 6 x 9</caption>\n",
       "<thead>\n",
       "\t<tr><th></th><th scope=col>mpg</th><th scope=col>cylinders</th><th scope=col>displacement</th><th scope=col>horsepower</th><th scope=col>weight</th><th scope=col>acceleration</th><th scope=col>model_year</th><th scope=col>origin</th><th scope=col>name</th></tr>\n",
       "\t<tr><th></th><th scope=col>&lt;dbl&gt;</th><th scope=col>&lt;int&gt;</th><th scope=col>&lt;dbl&gt;</th><th scope=col>&lt;dbl&gt;</th><th scope=col>&lt;dbl&gt;</th><th scope=col>&lt;dbl&gt;</th><th scope=col>&lt;int&gt;</th><th scope=col>&lt;int&gt;</th><th scope=col>&lt;chr&gt;</th></tr>\n",
       "</thead>\n",
       "<tbody>\n",
       "\t<tr><th scope=row>1</th><td>32.73684</td><td>4</td><td>290.3078</td><td>238.320</td><td>2106.556</td><td>19.57122</td><td>82</td><td>1</td><td>car_0</td></tr>\n",
       "\t<tr><th scope=row>2</th><td>17.39074</td><td>6</td><td>412.6402</td><td>250.000</td><td>3206.695</td><td>12.74748</td><td>82</td><td>3</td><td>car_1</td></tr>\n",
       "\t<tr><th scope=row>3</th><td>22.14352</td><td>4</td><td>311.8043</td><td>248.561</td><td>2517.969</td><td>19.85520</td><td>79</td><td>2</td><td>car_2</td></tr>\n",
       "\t<tr><th scope=row>4</th><td>13.03664</td><td>8</td><td>487.1465</td><td>250.000</td><td>3978.048</td><td>13.87043</td><td>72</td><td>1</td><td>car_3</td></tr>\n",
       "\t<tr><th scope=row>5</th><td>29.60550</td><td>4</td><td>253.9750</td><td>250.000</td><td>2272.608</td><td>18.46893</td><td>79</td><td>1</td><td>car_4</td></tr>\n",
       "\t<tr><th scope=row>6</th><td>13.19762</td><td>6</td><td>477.8863</td><td>250.000</td><td>3871.286</td><td>16.36652</td><td>79</td><td>2</td><td>car_5</td></tr>\n",
       "</tbody>\n",
       "</table>\n"
      ],
      "text/latex": [
       "A data.frame: 6 x 9\n",
       "\\begin{tabular}{r|lllllllll}\n",
       "  & mpg & cylinders & displacement & horsepower & weight & acceleration & model\\_year & origin & name\\\\\n",
       "  & <dbl> & <int> & <dbl> & <dbl> & <dbl> & <dbl> & <int> & <int> & <chr>\\\\\n",
       "\\hline\n",
       "\t1 & 32.73684 & 4 & 290.3078 & 238.320 & 2106.556 & 19.57122 & 82 & 1 & car\\_0\\\\\n",
       "\t2 & 17.39074 & 6 & 412.6402 & 250.000 & 3206.695 & 12.74748 & 82 & 3 & car\\_1\\\\\n",
       "\t3 & 22.14352 & 4 & 311.8043 & 248.561 & 2517.969 & 19.85520 & 79 & 2 & car\\_2\\\\\n",
       "\t4 & 13.03664 & 8 & 487.1465 & 250.000 & 3978.048 & 13.87043 & 72 & 1 & car\\_3\\\\\n",
       "\t5 & 29.60550 & 4 & 253.9750 & 250.000 & 2272.608 & 18.46893 & 79 & 1 & car\\_4\\\\\n",
       "\t6 & 13.19762 & 6 & 477.8863 & 250.000 & 3871.286 & 16.36652 & 79 & 2 & car\\_5\\\\\n",
       "\\end{tabular}\n"
      ],
      "text/markdown": [
       "\n",
       "A data.frame: 6 x 9\n",
       "\n",
       "| <!--/--> | mpg &lt;dbl&gt; | cylinders &lt;int&gt; | displacement &lt;dbl&gt; | horsepower &lt;dbl&gt; | weight &lt;dbl&gt; | acceleration &lt;dbl&gt; | model_year &lt;int&gt; | origin &lt;int&gt; | name &lt;chr&gt; |\n",
       "|---|---|---|---|---|---|---|---|---|---|\n",
       "| 1 | 32.73684 | 4 | 290.3078 | 238.320 | 2106.556 | 19.57122 | 82 | 1 | car_0 |\n",
       "| 2 | 17.39074 | 6 | 412.6402 | 250.000 | 3206.695 | 12.74748 | 82 | 3 | car_1 |\n",
       "| 3 | 22.14352 | 4 | 311.8043 | 248.561 | 2517.969 | 19.85520 | 79 | 2 | car_2 |\n",
       "| 4 | 13.03664 | 8 | 487.1465 | 250.000 | 3978.048 | 13.87043 | 72 | 1 | car_3 |\n",
       "| 5 | 29.60550 | 4 | 253.9750 | 250.000 | 2272.608 | 18.46893 | 79 | 1 | car_4 |\n",
       "| 6 | 13.19762 | 6 | 477.8863 | 250.000 | 3871.286 | 16.36652 | 79 | 2 | car_5 |\n",
       "\n"
      ],
      "text/plain": [
       "  mpg      cylinders displacement horsepower weight   acceleration model_year\n",
       "1 32.73684 4         290.3078     238.320    2106.556 19.57122     82        \n",
       "2 17.39074 6         412.6402     250.000    3206.695 12.74748     82        \n",
       "3 22.14352 4         311.8043     248.561    2517.969 19.85520     79        \n",
       "4 13.03664 8         487.1465     250.000    3978.048 13.87043     72        \n",
       "5 29.60550 4         253.9750     250.000    2272.608 18.46893     79        \n",
       "6 13.19762 6         477.8863     250.000    3871.286 16.36652     79        \n",
       "  origin name \n",
       "1 1      car_0\n",
       "2 3      car_1\n",
       "3 2      car_2\n",
       "4 1      car_3\n",
       "5 1      car_4\n",
       "6 2      car_5"
      ]
     },
     "metadata": {},
     "output_type": "display_data"
    }
   ],
   "source": [
    "df_auto <- read.csv(\"autos.csv\", \n",
    "                    sep=\",\", \n",
    "                    header=TRUE)\n",
    "head(df_auto)"
   ]
  },
  {
   "cell_type": "markdown",
   "id": "c7f533ce-9574-4bbb-9f5b-b8ab81990b9d",
   "metadata": {},
   "source": [
    "#### Remover dados nulos"
   ]
  },
  {
   "cell_type": "code",
   "execution_count": 3,
   "id": "aa67bf6c-c078-497b-8705-c8ee857cb120",
   "metadata": {},
   "outputs": [
    {
     "data": {
      "text/html": [
       "<table>\n",
       "<caption>A data.frame: 6 x 9</caption>\n",
       "<thead>\n",
       "\t<tr><th></th><th scope=col>mpg</th><th scope=col>cylinders</th><th scope=col>displacement</th><th scope=col>horsepower</th><th scope=col>weight</th><th scope=col>acceleration</th><th scope=col>model_year</th><th scope=col>origin</th><th scope=col>name</th></tr>\n",
       "\t<tr><th></th><th scope=col>&lt;dbl&gt;</th><th scope=col>&lt;int&gt;</th><th scope=col>&lt;dbl&gt;</th><th scope=col>&lt;dbl&gt;</th><th scope=col>&lt;dbl&gt;</th><th scope=col>&lt;dbl&gt;</th><th scope=col>&lt;int&gt;</th><th scope=col>&lt;int&gt;</th><th scope=col>&lt;chr&gt;</th></tr>\n",
       "</thead>\n",
       "<tbody>\n",
       "\t<tr><th scope=row>1</th><td>32.73684</td><td>4</td><td>290.3078</td><td>238.320</td><td>2106.556</td><td>19.57122</td><td>82</td><td>1</td><td>car_0</td></tr>\n",
       "\t<tr><th scope=row>2</th><td>17.39074</td><td>6</td><td>412.6402</td><td>250.000</td><td>3206.695</td><td>12.74748</td><td>82</td><td>3</td><td>car_1</td></tr>\n",
       "\t<tr><th scope=row>3</th><td>22.14352</td><td>4</td><td>311.8043</td><td>248.561</td><td>2517.969</td><td>19.85520</td><td>79</td><td>2</td><td>car_2</td></tr>\n",
       "\t<tr><th scope=row>4</th><td>13.03664</td><td>8</td><td>487.1465</td><td>250.000</td><td>3978.048</td><td>13.87043</td><td>72</td><td>1</td><td>car_3</td></tr>\n",
       "\t<tr><th scope=row>5</th><td>29.60550</td><td>4</td><td>253.9750</td><td>250.000</td><td>2272.608</td><td>18.46893</td><td>79</td><td>1</td><td>car_4</td></tr>\n",
       "\t<tr><th scope=row>6</th><td>13.19762</td><td>6</td><td>477.8863</td><td>250.000</td><td>3871.286</td><td>16.36652</td><td>79</td><td>2</td><td>car_5</td></tr>\n",
       "</tbody>\n",
       "</table>\n"
      ],
      "text/latex": [
       "A data.frame: 6 x 9\n",
       "\\begin{tabular}{r|lllllllll}\n",
       "  & mpg & cylinders & displacement & horsepower & weight & acceleration & model\\_year & origin & name\\\\\n",
       "  & <dbl> & <int> & <dbl> & <dbl> & <dbl> & <dbl> & <int> & <int> & <chr>\\\\\n",
       "\\hline\n",
       "\t1 & 32.73684 & 4 & 290.3078 & 238.320 & 2106.556 & 19.57122 & 82 & 1 & car\\_0\\\\\n",
       "\t2 & 17.39074 & 6 & 412.6402 & 250.000 & 3206.695 & 12.74748 & 82 & 3 & car\\_1\\\\\n",
       "\t3 & 22.14352 & 4 & 311.8043 & 248.561 & 2517.969 & 19.85520 & 79 & 2 & car\\_2\\\\\n",
       "\t4 & 13.03664 & 8 & 487.1465 & 250.000 & 3978.048 & 13.87043 & 72 & 1 & car\\_3\\\\\n",
       "\t5 & 29.60550 & 4 & 253.9750 & 250.000 & 2272.608 & 18.46893 & 79 & 1 & car\\_4\\\\\n",
       "\t6 & 13.19762 & 6 & 477.8863 & 250.000 & 3871.286 & 16.36652 & 79 & 2 & car\\_5\\\\\n",
       "\\end{tabular}\n"
      ],
      "text/markdown": [
       "\n",
       "A data.frame: 6 x 9\n",
       "\n",
       "| <!--/--> | mpg &lt;dbl&gt; | cylinders &lt;int&gt; | displacement &lt;dbl&gt; | horsepower &lt;dbl&gt; | weight &lt;dbl&gt; | acceleration &lt;dbl&gt; | model_year &lt;int&gt; | origin &lt;int&gt; | name &lt;chr&gt; |\n",
       "|---|---|---|---|---|---|---|---|---|---|\n",
       "| 1 | 32.73684 | 4 | 290.3078 | 238.320 | 2106.556 | 19.57122 | 82 | 1 | car_0 |\n",
       "| 2 | 17.39074 | 6 | 412.6402 | 250.000 | 3206.695 | 12.74748 | 82 | 3 | car_1 |\n",
       "| 3 | 22.14352 | 4 | 311.8043 | 248.561 | 2517.969 | 19.85520 | 79 | 2 | car_2 |\n",
       "| 4 | 13.03664 | 8 | 487.1465 | 250.000 | 3978.048 | 13.87043 | 72 | 1 | car_3 |\n",
       "| 5 | 29.60550 | 4 | 253.9750 | 250.000 | 2272.608 | 18.46893 | 79 | 1 | car_4 |\n",
       "| 6 | 13.19762 | 6 | 477.8863 | 250.000 | 3871.286 | 16.36652 | 79 | 2 | car_5 |\n",
       "\n"
      ],
      "text/plain": [
       "  mpg      cylinders displacement horsepower weight   acceleration model_year\n",
       "1 32.73684 4         290.3078     238.320    2106.556 19.57122     82        \n",
       "2 17.39074 6         412.6402     250.000    3206.695 12.74748     82        \n",
       "3 22.14352 4         311.8043     248.561    2517.969 19.85520     79        \n",
       "4 13.03664 8         487.1465     250.000    3978.048 13.87043     72        \n",
       "5 29.60550 4         253.9750     250.000    2272.608 18.46893     79        \n",
       "6 13.19762 6         477.8863     250.000    3871.286 16.36652     79        \n",
       "  origin name \n",
       "1 1      car_0\n",
       "2 3      car_1\n",
       "3 2      car_2\n",
       "4 1      car_3\n",
       "5 1      car_4\n",
       "6 2      car_5"
      ]
     },
     "metadata": {},
     "output_type": "display_data"
    }
   ],
   "source": [
    "df_auto <- na.omit(df_auto)\n",
    "head(df_auto)"
   ]
  },
  {
   "cell_type": "markdown",
   "id": "efc1e929-19cd-4e88-984a-d877d0068ed7",
   "metadata": {},
   "source": [
    "#### Transformando dados específicos para factor"
   ]
  },
  {
   "cell_type": "code",
   "execution_count": 4,
   "id": "f72dc38f-54a6-44ed-82f3-d1a1323a4ede",
   "metadata": {},
   "outputs": [
    {
     "data": {
      "text/html": [
       "<table>\n",
       "<caption>A data.frame: 6 x 9</caption>\n",
       "<thead>\n",
       "\t<tr><th></th><th scope=col>mpg</th><th scope=col>cylinders</th><th scope=col>displacement</th><th scope=col>horsepower</th><th scope=col>weight</th><th scope=col>acceleration</th><th scope=col>model_year</th><th scope=col>origin</th><th scope=col>name</th></tr>\n",
       "\t<tr><th></th><th scope=col>&lt;dbl&gt;</th><th scope=col>&lt;fct&gt;</th><th scope=col>&lt;dbl&gt;</th><th scope=col>&lt;dbl&gt;</th><th scope=col>&lt;dbl&gt;</th><th scope=col>&lt;dbl&gt;</th><th scope=col>&lt;int&gt;</th><th scope=col>&lt;fct&gt;</th><th scope=col>&lt;chr&gt;</th></tr>\n",
       "</thead>\n",
       "<tbody>\n",
       "\t<tr><th scope=row>1</th><td>32.73684</td><td>4</td><td>290.3078</td><td>238.320</td><td>2106.556</td><td>19.57122</td><td>82</td><td>1</td><td>car_0</td></tr>\n",
       "\t<tr><th scope=row>2</th><td>17.39074</td><td>6</td><td>412.6402</td><td>250.000</td><td>3206.695</td><td>12.74748</td><td>82</td><td>3</td><td>car_1</td></tr>\n",
       "\t<tr><th scope=row>3</th><td>22.14352</td><td>4</td><td>311.8043</td><td>248.561</td><td>2517.969</td><td>19.85520</td><td>79</td><td>2</td><td>car_2</td></tr>\n",
       "\t<tr><th scope=row>4</th><td>13.03664</td><td>8</td><td>487.1465</td><td>250.000</td><td>3978.048</td><td>13.87043</td><td>72</td><td>1</td><td>car_3</td></tr>\n",
       "\t<tr><th scope=row>5</th><td>29.60550</td><td>4</td><td>253.9750</td><td>250.000</td><td>2272.608</td><td>18.46893</td><td>79</td><td>1</td><td>car_4</td></tr>\n",
       "\t<tr><th scope=row>6</th><td>13.19762</td><td>6</td><td>477.8863</td><td>250.000</td><td>3871.286</td><td>16.36652</td><td>79</td><td>2</td><td>car_5</td></tr>\n",
       "</tbody>\n",
       "</table>\n"
      ],
      "text/latex": [
       "A data.frame: 6 x 9\n",
       "\\begin{tabular}{r|lllllllll}\n",
       "  & mpg & cylinders & displacement & horsepower & weight & acceleration & model\\_year & origin & name\\\\\n",
       "  & <dbl> & <fct> & <dbl> & <dbl> & <dbl> & <dbl> & <int> & <fct> & <chr>\\\\\n",
       "\\hline\n",
       "\t1 & 32.73684 & 4 & 290.3078 & 238.320 & 2106.556 & 19.57122 & 82 & 1 & car\\_0\\\\\n",
       "\t2 & 17.39074 & 6 & 412.6402 & 250.000 & 3206.695 & 12.74748 & 82 & 3 & car\\_1\\\\\n",
       "\t3 & 22.14352 & 4 & 311.8043 & 248.561 & 2517.969 & 19.85520 & 79 & 2 & car\\_2\\\\\n",
       "\t4 & 13.03664 & 8 & 487.1465 & 250.000 & 3978.048 & 13.87043 & 72 & 1 & car\\_3\\\\\n",
       "\t5 & 29.60550 & 4 & 253.9750 & 250.000 & 2272.608 & 18.46893 & 79 & 1 & car\\_4\\\\\n",
       "\t6 & 13.19762 & 6 & 477.8863 & 250.000 & 3871.286 & 16.36652 & 79 & 2 & car\\_5\\\\\n",
       "\\end{tabular}\n"
      ],
      "text/markdown": [
       "\n",
       "A data.frame: 6 x 9\n",
       "\n",
       "| <!--/--> | mpg &lt;dbl&gt; | cylinders &lt;fct&gt; | displacement &lt;dbl&gt; | horsepower &lt;dbl&gt; | weight &lt;dbl&gt; | acceleration &lt;dbl&gt; | model_year &lt;int&gt; | origin &lt;fct&gt; | name &lt;chr&gt; |\n",
       "|---|---|---|---|---|---|---|---|---|---|\n",
       "| 1 | 32.73684 | 4 | 290.3078 | 238.320 | 2106.556 | 19.57122 | 82 | 1 | car_0 |\n",
       "| 2 | 17.39074 | 6 | 412.6402 | 250.000 | 3206.695 | 12.74748 | 82 | 3 | car_1 |\n",
       "| 3 | 22.14352 | 4 | 311.8043 | 248.561 | 2517.969 | 19.85520 | 79 | 2 | car_2 |\n",
       "| 4 | 13.03664 | 8 | 487.1465 | 250.000 | 3978.048 | 13.87043 | 72 | 1 | car_3 |\n",
       "| 5 | 29.60550 | 4 | 253.9750 | 250.000 | 2272.608 | 18.46893 | 79 | 1 | car_4 |\n",
       "| 6 | 13.19762 | 6 | 477.8863 | 250.000 | 3871.286 | 16.36652 | 79 | 2 | car_5 |\n",
       "\n"
      ],
      "text/plain": [
       "  mpg      cylinders displacement horsepower weight   acceleration model_year\n",
       "1 32.73684 4         290.3078     238.320    2106.556 19.57122     82        \n",
       "2 17.39074 6         412.6402     250.000    3206.695 12.74748     82        \n",
       "3 22.14352 4         311.8043     248.561    2517.969 19.85520     79        \n",
       "4 13.03664 8         487.1465     250.000    3978.048 13.87043     72        \n",
       "5 29.60550 4         253.9750     250.000    2272.608 18.46893     79        \n",
       "6 13.19762 6         477.8863     250.000    3871.286 16.36652     79        \n",
       "  origin name \n",
       "1 1      car_0\n",
       "2 3      car_1\n",
       "3 2      car_2\n",
       "4 1      car_3\n",
       "5 1      car_4\n",
       "6 2      car_5"
      ]
     },
     "metadata": {},
     "output_type": "display_data"
    }
   ],
   "source": [
    "df_auto$cylinders <- factor(df_auto$cylinders)\n",
    "df_auto$origin <- factor(df_auto$origin)\n",
    "head(df_auto)"
   ]
  },
  {
   "cell_type": "markdown",
   "id": "a9d3ab8c-d7f5-471b-aba9-30dddbba90c9",
   "metadata": {},
   "source": [
    "#### Criando modelo vazio"
   ]
  },
  {
   "cell_type": "code",
   "execution_count": 5,
   "id": "4b6e1b64-c60a-4466-acf9-8731c6031503",
   "metadata": {},
   "outputs": [
    {
     "data": {
      "text/plain": [
       "\n",
       "Call:\n",
       "lm(formula = mpg ~ 1, data = df_auto)\n",
       "\n",
       "Residuals:\n",
       "     Min       1Q   Median       3Q      Max \n",
       "-17.7100  -6.2580   0.6707   6.3069  20.6833 \n",
       "\n",
       "Coefficients:\n",
       "            Estimate Std. Error t value Pr(>|t|)    \n",
       "(Intercept)  25.7100     0.4256   60.41   <2e-16 ***\n",
       "---\n",
       "Signif. codes:  0 '***' 0.001 '**' 0.01 '*' 0.05 '.' 0.1 ' ' 1\n",
       "\n",
       "Residual standard error: 8.49 on 397 degrees of freedom\n"
      ]
     },
     "metadata": {},
     "output_type": "display_data"
    }
   ],
   "source": [
    "lm_auto_null <- lm(mpg ~ 1, data = df_auto)\n",
    "summary(lm_auto_null)"
   ]
  },
  {
   "cell_type": "markdown",
   "id": "db10b641-53b6-4ca4-8f28-e159c1fd8fd3",
   "metadata": {},
   "source": [
    "#### Criando modelo com todos os parâmetros"
   ]
  },
  {
   "cell_type": "code",
   "execution_count": 6,
   "id": "cc88fa8d-e47d-4036-bd2f-c78e3af05c2f",
   "metadata": {},
   "outputs": [
    {
     "data": {
      "text/plain": [
       "\n",
       "Call:\n",
       "lm(formula = mpg ~ cylinders + displacement + horsepower + weight + \n",
       "    acceleration + model_year + origin, data = df_auto)\n",
       "\n",
       "Residuals:\n",
       "   Min     1Q Median     3Q    Max \n",
       "-8.443 -1.624 -0.008  1.652  7.809 \n",
       "\n",
       "Coefficients:\n",
       "               Estimate Std. Error t value Pr(>|t|)    \n",
       "(Intercept)  59.5320218  3.4542560  17.234  < 2e-16 ***\n",
       "cylinders4   -2.1237686  1.3218691  -1.607   0.1090    \n",
       "cylinders5   -1.4146486  1.4182585  -0.997   0.3192    \n",
       "cylinders6   -2.3388243  1.3626035  -1.716   0.0869 .  \n",
       "cylinders8   -2.1887534  1.4474907  -1.512   0.1313    \n",
       "displacement  0.0057157  0.0061908   0.923   0.3565    \n",
       "horsepower   -0.0292244  0.0048687  -6.002 4.48e-09 ***\n",
       "weight       -0.0106141  0.0007038 -15.080  < 2e-16 ***\n",
       "acceleration  0.0243317  0.0474132   0.513   0.6081    \n",
       "model_year    0.0226685  0.0369357   0.614   0.5398    \n",
       "origin2       0.1355393  0.3112033   0.436   0.6634    \n",
       "origin3       0.0566659  0.3314891   0.171   0.8644    \n",
       "---\n",
       "Signif. codes:  0 '***' 0.001 '**' 0.01 '*' 0.05 '.' 0.1 ' ' 1\n",
       "\n",
       "Residual standard error: 2.595 on 386 degrees of freedom\n",
       "Multiple R-squared:  0.9092,\tAdjusted R-squared:  0.9066 \n",
       "F-statistic: 351.4 on 11 and 386 DF,  p-value: < 2.2e-16\n"
      ]
     },
     "metadata": {},
     "output_type": "display_data"
    }
   ],
   "source": [
    "lm_auto_full <- lm(mpg ~ cylinders + displacement + horsepower + weight + acceleration + model_year + origin, data = df_auto)\n",
    "summary(lm_auto_full)"
   ]
  },
  {
   "cell_type": "markdown",
   "id": "fccdda51-9ec5-440c-8618-5775bbff1b0f",
   "metadata": {},
   "source": [
    "#### Criando modelo utilizando Step Forward"
   ]
  },
  {
   "cell_type": "code",
   "execution_count": 7,
   "id": "2651b71a-c313-4ba9-a4af-c96986f76219",
   "metadata": {},
   "outputs": [
    {
     "name": "stdout",
     "output_type": "stream",
     "text": [
      "Start:  AIC=1703.57\n",
      "mpg ~ 1\n",
      "\n",
      "               Df Sum of Sq     RSS     AIC\n",
      "+ weight        1   25695.0  2921.6  797.39\n",
      "+ displacement  1   24186.1  4430.5  963.11\n",
      "+ cylinders     4   14997.6 13619.0 1416.04\n",
      "+ horsepower    1   11585.6 17031.0 1499.02\n",
      "+ acceleration  1    2959.4 25657.2 1662.12\n",
      "<none>                      28616.6 1703.57\n",
      "+ origin        2     193.7 28422.9 1704.86\n",
      "+ model_year    1      43.6 28573.0 1704.96\n",
      "\n",
      "Step:  AIC=797.39\n",
      "mpg ~ weight\n",
      "\n",
      "               Df Sum of Sq    RSS    AIC\n",
      "+ horsepower    1   275.892 2645.8 759.91\n",
      "+ cylinders     4    65.937 2855.7 796.31\n",
      "<none>                      2921.6 797.39\n",
      "+ displacement  1     7.177 2914.5 798.41\n",
      "+ acceleration  1     2.704 2918.9 799.02\n",
      "+ model_year    1     1.590 2920.1 799.18\n",
      "+ origin        2     3.622 2918.0 800.90\n",
      "\n",
      "Step:  AIC=759.91\n",
      "mpg ~ weight + horsepower\n",
      "\n",
      "               Df Sum of Sq    RSS    AIC\n",
      "<none>                      2645.8 759.91\n",
      "+ displacement  1     6.033 2639.7 761.01\n",
      "+ model_year    1     3.591 2642.2 761.37\n",
      "+ acceleration  1     3.346 2642.4 761.41\n",
      "+ cylinders     4    35.264 2610.5 762.57\n",
      "+ origin        2     0.932 2644.8 763.77\n"
     ]
    },
    {
     "data": {
      "text/plain": [
       "\n",
       "Call:\n",
       "lm(formula = mpg ~ weight + horsepower, data = df_auto)\n",
       "\n",
       "Residuals:\n",
       "    Min      1Q  Median      3Q     Max \n",
       "-8.6853 -1.6186 -0.0269  1.6629  7.6636 \n",
       "\n",
       "Coefficients:\n",
       "              Estimate Std. Error t value Pr(>|t|)    \n",
       "(Intercept) 60.0246860  0.8402269  71.439  < 2e-16 ***\n",
       "weight      -0.0100794  0.0002175 -46.343  < 2e-16 ***\n",
       "horsepower  -0.0288890  0.0045013  -6.418 3.96e-10 ***\n",
       "---\n",
       "Signif. codes:  0 '***' 0.001 '**' 0.01 '*' 0.05 '.' 0.1 ' ' 1\n",
       "\n",
       "Residual standard error: 2.588 on 395 degrees of freedom\n",
       "Multiple R-squared:  0.9075,\tAdjusted R-squared:  0.9071 \n",
       "F-statistic:  1939 on 2 and 395 DF,  p-value: < 2.2e-16\n"
      ]
     },
     "metadata": {},
     "output_type": "display_data"
    }
   ],
   "source": [
    "step_auto_forward <- step(lm_auto_null, scope=formula(lm_auto_full), direction='forward', trace= 1)\n",
    "summary(step_auto_forward)"
   ]
  },
  {
   "cell_type": "markdown",
   "id": "c90407f1-eb62-44eb-8e5f-8c2acd420801",
   "metadata": {},
   "source": [
    "#### Criando modelo utilizando Step Backward"
   ]
  },
  {
   "cell_type": "code",
   "execution_count": 8,
   "id": "69d5763f-10d5-4ce7-8cca-e3ab3eb879df",
   "metadata": {},
   "outputs": [
    {
     "name": "stdout",
     "output_type": "stream",
     "text": [
      "Start:  AIC=770.75\n",
      "mpg ~ cylinders + displacement + horsepower + weight + acceleration + \n",
      "    model_year + origin\n",
      "\n",
      "               Df Sum of Sq    RSS    AIC\n",
      "- origin        2      1.28 2599.8 766.94\n",
      "- cylinders     4     33.40 2631.9 767.83\n",
      "- acceleration  1      1.77 2600.3 769.02\n",
      "- model_year    1      2.54 2601.1 769.13\n",
      "- displacement  1      5.74 2604.3 769.62\n",
      "<none>                      2598.5 770.75\n",
      "- horsepower    1    242.55 2841.1 804.26\n",
      "- weight        1   1530.94 4129.5 953.10\n",
      "\n",
      "Step:  AIC=766.94\n",
      "mpg ~ cylinders + displacement + horsepower + weight + acceleration + \n",
      "    model_year\n",
      "\n",
      "               Df Sum of Sq    RSS    AIC\n",
      "- cylinders     4     33.02 2632.8 763.96\n",
      "- acceleration  1      1.64 2601.4 765.19\n",
      "- model_year    1      2.34 2602.1 765.30\n",
      "- displacement  1      6.28 2606.1 765.90\n",
      "<none>                      2599.8 766.94\n",
      "- horsepower    1    247.52 2847.3 801.14\n",
      "- weight        1   1546.18 4146.0 950.69\n",
      "\n",
      "Step:  AIC=763.96\n",
      "mpg ~ displacement + horsepower + weight + acceleration + model_year\n",
      "\n",
      "               Df Sum of Sq    RSS    AIC\n",
      "- acceleration  1      3.12 2635.9 762.44\n",
      "- model_year    1      4.46 2637.3 762.64\n",
      "- displacement  1      5.23 2638.0 762.75\n",
      "<none>                      2632.8 763.96\n",
      "- horsepower    1    275.77 2908.6 801.61\n",
      "- weight        1   1554.58 4187.4 946.65\n",
      "\n",
      "Step:  AIC=762.44\n",
      "mpg ~ displacement + horsepower + weight + model_year\n",
      "\n",
      "               Df Sum of Sq    RSS    AIC\n",
      "- model_year    1      3.79 2639.7 761.01\n",
      "- displacement  1      6.23 2642.2 761.37\n",
      "<none>                      2635.9 762.44\n",
      "- horsepower    1    277.00 2912.9 800.20\n",
      "- weight        1   1643.32 4279.3 953.28\n",
      "\n",
      "Step:  AIC=761.01\n",
      "mpg ~ displacement + horsepower + weight\n",
      "\n",
      "               Df Sum of Sq    RSS    AIC\n",
      "- displacement  1      6.03 2645.8 759.91\n",
      "<none>                      2639.7 761.01\n",
      "- horsepower    1    274.75 2914.5 798.41\n",
      "- weight        1   1640.41 4280.1 951.36\n",
      "\n",
      "Step:  AIC=759.91\n",
      "mpg ~ horsepower + weight\n",
      "\n",
      "             Df Sum of Sq     RSS     AIC\n",
      "<none>                     2645.8  759.91\n",
      "- horsepower  1     275.9  2921.6  797.39\n",
      "- weight      1   14385.2 17031.0 1499.02\n"
     ]
    },
    {
     "data": {
      "text/plain": [
       "\n",
       "Call:\n",
       "lm(formula = mpg ~ horsepower + weight, data = df_auto)\n",
       "\n",
       "Residuals:\n",
       "    Min      1Q  Median      3Q     Max \n",
       "-8.6853 -1.6186 -0.0269  1.6629  7.6636 \n",
       "\n",
       "Coefficients:\n",
       "              Estimate Std. Error t value Pr(>|t|)    \n",
       "(Intercept) 60.0246860  0.8402269  71.439  < 2e-16 ***\n",
       "horsepower  -0.0288890  0.0045013  -6.418 3.96e-10 ***\n",
       "weight      -0.0100794  0.0002175 -46.343  < 2e-16 ***\n",
       "---\n",
       "Signif. codes:  0 '***' 0.001 '**' 0.01 '*' 0.05 '.' 0.1 ' ' 1\n",
       "\n",
       "Residual standard error: 2.588 on 395 degrees of freedom\n",
       "Multiple R-squared:  0.9075,\tAdjusted R-squared:  0.9071 \n",
       "F-statistic:  1939 on 2 and 395 DF,  p-value: < 2.2e-16\n"
      ]
     },
     "metadata": {},
     "output_type": "display_data"
    }
   ],
   "source": [
    "step_auto_backward <- step(lm_auto_full, direction='backward', trace= 1)\n",
    "summary(step_auto_backward )"
   ]
  },
  {
   "cell_type": "markdown",
   "id": "323d8c79-7479-4929-923f-bdbf95cd4ae7",
   "metadata": {},
   "source": [
    "#### Criando modelo com Step Forward e Backward"
   ]
  },
  {
   "cell_type": "code",
   "execution_count": 9,
   "id": "6c5079eb-5d0b-4d6b-9add-d8d440f00271",
   "metadata": {},
   "outputs": [
    {
     "name": "stdout",
     "output_type": "stream",
     "text": [
      "Start:  AIC=770.75\n",
      "mpg ~ cylinders + displacement + horsepower + weight + acceleration + \n",
      "    model_year + origin\n",
      "\n",
      "               Df Sum of Sq    RSS    AIC\n",
      "- origin        2      1.28 2599.8 766.94\n",
      "- cylinders     4     33.40 2631.9 767.83\n",
      "- acceleration  1      1.77 2600.3 769.02\n",
      "- model_year    1      2.54 2601.1 769.13\n",
      "- displacement  1      5.74 2604.3 769.62\n",
      "<none>                      2598.5 770.75\n",
      "- horsepower    1    242.55 2841.1 804.26\n",
      "- weight        1   1530.94 4129.5 953.10\n",
      "\n",
      "Step:  AIC=766.94\n",
      "mpg ~ cylinders + displacement + horsepower + weight + acceleration + \n",
      "    model_year\n",
      "\n",
      "               Df Sum of Sq    RSS    AIC\n",
      "- cylinders     4     33.02 2632.8 763.96\n",
      "- acceleration  1      1.64 2601.4 765.19\n",
      "- model_year    1      2.34 2602.1 765.30\n",
      "- displacement  1      6.28 2606.1 765.90\n",
      "<none>                      2599.8 766.94\n",
      "+ origin        2      1.28 2598.5 770.75\n",
      "- horsepower    1    247.52 2847.3 801.14\n",
      "- weight        1   1546.18 4146.0 950.69\n",
      "\n",
      "Step:  AIC=763.96\n",
      "mpg ~ displacement + horsepower + weight + acceleration + model_year\n",
      "\n",
      "               Df Sum of Sq    RSS    AIC\n",
      "- acceleration  1      3.12 2635.9 762.44\n",
      "- model_year    1      4.46 2637.3 762.64\n",
      "- displacement  1      5.23 2638.0 762.75\n",
      "<none>                      2632.8 763.96\n",
      "+ cylinders     4     33.02 2599.8 766.94\n",
      "+ origin        2      0.90 2631.9 767.83\n",
      "- horsepower    1    275.77 2908.6 801.61\n",
      "- weight        1   1554.58 4187.4 946.65\n",
      "\n",
      "Step:  AIC=762.44\n",
      "mpg ~ displacement + horsepower + weight + model_year\n",
      "\n",
      "               Df Sum of Sq    RSS    AIC\n",
      "- model_year    1      3.79 2639.7 761.01\n",
      "- displacement  1      6.23 2642.2 761.37\n",
      "<none>                      2635.9 762.44\n",
      "+ acceleration  1      3.12 2632.8 763.96\n",
      "+ cylinders     4     34.49 2601.4 765.19\n",
      "+ origin        2      0.72 2635.2 766.33\n",
      "- horsepower    1    277.00 2912.9 800.20\n",
      "- weight        1   1643.32 4279.3 953.28\n",
      "\n",
      "Step:  AIC=761.01\n",
      "mpg ~ displacement + horsepower + weight\n",
      "\n",
      "               Df Sum of Sq    RSS    AIC\n",
      "- displacement  1      6.03 2645.8 759.91\n",
      "<none>                      2639.7 761.01\n",
      "+ model_year    1      3.79 2635.9 762.44\n",
      "+ acceleration  1      2.45 2637.3 762.64\n",
      "+ cylinders     4     36.30 2603.4 763.49\n",
      "+ origin        2      0.51 2639.2 764.93\n",
      "- horsepower    1    274.75 2914.5 798.41\n",
      "- weight        1   1640.41 4280.1 951.36\n",
      "\n",
      "Step:  AIC=759.91\n",
      "mpg ~ horsepower + weight\n",
      "\n",
      "               Df Sum of Sq     RSS     AIC\n",
      "<none>                       2645.8  759.91\n",
      "+ displacement  1       6.0  2639.7  761.01\n",
      "+ model_year    1       3.6  2642.2  761.37\n",
      "+ acceleration  1       3.3  2642.4  761.41\n",
      "+ cylinders     4      35.3  2610.5  762.57\n",
      "+ origin        2       0.9  2644.8  763.77\n",
      "- horsepower    1     275.9  2921.6  797.39\n",
      "- weight        1   14385.2 17031.0 1499.02\n"
     ]
    },
    {
     "data": {
      "text/plain": [
       "\n",
       "Call:\n",
       "lm(formula = mpg ~ horsepower + weight, data = df_auto)\n",
       "\n",
       "Residuals:\n",
       "    Min      1Q  Median      3Q     Max \n",
       "-8.6853 -1.6186 -0.0269  1.6629  7.6636 \n",
       "\n",
       "Coefficients:\n",
       "              Estimate Std. Error t value Pr(>|t|)    \n",
       "(Intercept) 60.0246860  0.8402269  71.439  < 2e-16 ***\n",
       "horsepower  -0.0288890  0.0045013  -6.418 3.96e-10 ***\n",
       "weight      -0.0100794  0.0002175 -46.343  < 2e-16 ***\n",
       "---\n",
       "Signif. codes:  0 '***' 0.001 '**' 0.01 '*' 0.05 '.' 0.1 ' ' 1\n",
       "\n",
       "Residual standard error: 2.588 on 395 degrees of freedom\n",
       "Multiple R-squared:  0.9075,\tAdjusted R-squared:  0.9071 \n",
       "F-statistic:  1939 on 2 and 395 DF,  p-value: < 2.2e-16\n"
      ]
     },
     "metadata": {},
     "output_type": "display_data"
    }
   ],
   "source": [
    "step_auto_both <- step(lm_auto_full, direction = \"both\", trace = 1)\n",
    "summary(step_auto_both)"
   ]
  },
  {
   "cell_type": "markdown",
   "id": "ef7c037b-f60a-42d8-aec3-3c67b38f4c6d",
   "metadata": {},
   "source": [
    "#### Previção dos dados originais utilizando o modelo com Backward"
   ]
  },
  {
   "cell_type": "code",
   "execution_count": 10,
   "id": "dd5922eb-dcdc-4530-969e-57990ab943f1",
   "metadata": {},
   "outputs": [
    {
     "data": {
      "text/plain": [
       "   Min. 1st Qu.  Median    Mean 3rd Qu.    Max. \n",
       "  7.663  19.776  26.556  25.710  31.859  43.750 "
      ]
     },
     "metadata": {},
     "output_type": "display_data"
    }
   ],
   "source": [
    "predict_auto_backward <- predict(step_auto_backward)\n",
    "summary(predict_auto_backward)"
   ]
  },
  {
   "cell_type": "markdown",
   "id": "283679d9-ebee-4f55-a322-0251d5d11aad",
   "metadata": {},
   "source": [
    "#### Predição com dados novos utilizando o com modelo Backward"
   ]
  },
  {
   "cell_type": "code",
   "execution_count": 11,
   "id": "4ec7b0ff-7937-4a58-94d4-9a946c86a4cc",
   "metadata": {},
   "outputs": [
    {
     "data": {
      "text/plain": [
       "   Min. 1st Qu.  Median    Mean 3rd Qu.    Max. \n",
       "  38.99   38.99   38.99   38.99   38.99   38.99 "
      ]
     },
     "metadata": {},
     "output_type": "display_data"
    }
   ],
   "source": [
    "new_car <- data.frame(mpg = 20,\n",
    "  cylinders = 4,\n",
    "  horsepower = 100,\n",
    "  weight = 1800,\n",
    "  acceleration = 15,\n",
    "  year = 82,\n",
    "  origin = 1)\n",
    "\n",
    "predict_new_car <- predict(step_auto_backward, newdata = new_car)\n",
    "summary(predict_new_car)"
   ]
  }
 ],
 "metadata": {
  "kernelspec": {
   "display_name": "R - r-data-science",
   "language": "R",
   "name": "ir_r-data-science"
  },
  "language_info": {
   "codemirror_mode": "r",
   "file_extension": ".r",
   "mimetype": "text/x-r-source",
   "name": "R",
   "pygments_lexer": "r",
   "version": "4.0.4"
  }
 },
 "nbformat": 4,
 "nbformat_minor": 5
}
